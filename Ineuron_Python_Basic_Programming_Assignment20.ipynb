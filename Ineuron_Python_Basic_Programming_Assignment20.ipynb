{
  "nbformat": 4,
  "nbformat_minor": 0,
  "metadata": {
    "colab": {
      "name": "Ineuron_Python_Basic_Programming_Assignment20.ipynb",
      "provenance": [],
      "collapsed_sections": []
    },
    "kernelspec": {
      "name": "python3",
      "display_name": "Python 3"
    },
    "language_info": {
      "name": "python"
    }
  },
  "cells": [
    {
      "cell_type": "markdown",
      "metadata": {
        "id": "MD8QERCaGzTF"
      },
      "source": [
        "**Ineuron Python Basic Programming Assignment 20**"
      ]
    },
    {
      "cell_type": "markdown",
      "metadata": {
        "id": "GTA4Svy8G3aI"
      },
      "source": [
        "Ques. 1: Create a function that takes a list of strings and integers, and filters out the list so that it\n",
        "returns a list of integers only.\n",
        "Examples\n",
        "filter_list([1, 2, 3, 'a', 'b', 4]) ➞ [1, 2, 3, 4]\n",
        "filter_list(['A', 0, 'Edabit', 1729, 'Python', '1729']) ➞ [0, 1729]\n",
        "filter_list(['Nothing', 'here']) ➞ []"
      ]
    },
    {
      "cell_type": "code",
      "metadata": {
        "id": "G-Qyph37FA3g"
      },
      "source": [
        "lst = [1, 2, 3, 'a', 'b', 4]\n",
        "def filter_list(lst):\n",
        "    int_list = []\n",
        "    for i in lst:\n",
        "        if type(i) == int:\n",
        "            int_list.append(i)\n",
        "       \n",
        "    return int_list"
      ],
      "execution_count": 3,
      "outputs": []
    },
    {
      "cell_type": "code",
      "metadata": {
        "colab": {
          "base_uri": "https://localhost:8080/"
        },
        "id": "SG7mbfm5HD4R",
        "outputId": "5a66419d-447b-4b9a-9ccd-6f4b4321451b"
      },
      "source": [
        "filter_list([1, 2, 3, 'a', 'b', 4])\n"
      ],
      "execution_count": 4,
      "outputs": [
        {
          "output_type": "execute_result",
          "data": {
            "text/plain": [
              "[1, 2, 3, 4]"
            ]
          },
          "metadata": {},
          "execution_count": 4
        }
      ]
    },
    {
      "cell_type": "code",
      "metadata": {
        "colab": {
          "base_uri": "https://localhost:8080/"
        },
        "id": "TFKVJuCTHIuB",
        "outputId": "ce5d2bc9-9b4c-486a-f42a-7f5938af8ffa"
      },
      "source": [
        "filter_list(['A', 0, 'Edabit', 1729, 'Python', '1729'])\n"
      ],
      "execution_count": 5,
      "outputs": [
        {
          "output_type": "execute_result",
          "data": {
            "text/plain": [
              "[0, 1729]"
            ]
          },
          "metadata": {},
          "execution_count": 5
        }
      ]
    },
    {
      "cell_type": "code",
      "metadata": {
        "colab": {
          "base_uri": "https://localhost:8080/"
        },
        "id": "X5Rz9f5KHKJx",
        "outputId": "cf38a6ef-2f70-47bb-bd85-5f44cc00fc91"
      },
      "source": [
        "filter_list(['Nothing', 'here'])\n"
      ],
      "execution_count": 6,
      "outputs": [
        {
          "output_type": "execute_result",
          "data": {
            "text/plain": [
              "[]"
            ]
          },
          "metadata": {},
          "execution_count": 6
        }
      ]
    },
    {
      "cell_type": "markdown",
      "metadata": {
        "id": "_F_uWHwcHbHT"
      },
      "source": [
        "Ques. 2: Given a list of numbers, create a function which returns the list but with each element's\n",
        "index in the list added to itself. This means you add 0 to the number at index 0, add 1 to the\n",
        "number at index 1, etc...\n",
        "Examples\n",
        "add_indexes([0, 0, 0, 0, 0]) ➞ [0, 1, 2, 3, 4]\n",
        "add_indexes([1, 2, 3, 4, 5]) ➞ [1, 3, 5, 7, 9]\n",
        "add_indexes([5, 4, 3, 2, 1]) ➞ [5, 5, 5, 5, 5]"
      ]
    },
    {
      "cell_type": "code",
      "metadata": {
        "id": "jKjnRYWdHLx1"
      },
      "source": [
        "def add_indexes(lst):\n",
        "    ind = 0\n",
        "    index = []\n",
        "    for i in lst:\n",
        "        index.append(lst.index(i,ind) + i)\n",
        "        ind+=1\n",
        "    return index"
      ],
      "execution_count": 23,
      "outputs": []
    },
    {
      "cell_type": "code",
      "metadata": {
        "colab": {
          "base_uri": "https://localhost:8080/"
        },
        "id": "QnyA0IWmHhfs",
        "outputId": "caa17e8e-04a6-45a2-dc4f-f169324b5eb3"
      },
      "source": [
        "add_indexes([0, 0, 0, 0, 0])"
      ],
      "execution_count": 24,
      "outputs": [
        {
          "output_type": "execute_result",
          "data": {
            "text/plain": [
              "[0, 1, 2, 3, 4]"
            ]
          },
          "metadata": {},
          "execution_count": 24
        }
      ]
    },
    {
      "cell_type": "code",
      "metadata": {
        "colab": {
          "base_uri": "https://localhost:8080/"
        },
        "id": "OYlwVxsFHjfw",
        "outputId": "867ce4d6-4e96-481c-d849-e9b537959316"
      },
      "source": [
        "add_indexes([1, 2, 3, 4, 5])\n"
      ],
      "execution_count": 25,
      "outputs": [
        {
          "output_type": "execute_result",
          "data": {
            "text/plain": [
              "[1, 3, 5, 7, 9]"
            ]
          },
          "metadata": {},
          "execution_count": 25
        }
      ]
    },
    {
      "cell_type": "code",
      "metadata": {
        "colab": {
          "base_uri": "https://localhost:8080/"
        },
        "id": "sHKZfroGHk-j",
        "outputId": "afc8bf44-2ba9-4408-da7a-c1e98ea7a98b"
      },
      "source": [
        "add_indexes([5, 4, 3, 2, 1])\n"
      ],
      "execution_count": 26,
      "outputs": [
        {
          "output_type": "execute_result",
          "data": {
            "text/plain": [
              "[5, 5, 5, 5, 5]"
            ]
          },
          "metadata": {},
          "execution_count": 26
        }
      ]
    },
    {
      "cell_type": "markdown",
      "metadata": {
        "id": "qUuqyfIeHpFl"
      },
      "source": [
        "Ques. 3: Create a function that takes the height and radius of a cone as arguments and returns the\n",
        "volume of the cone rounded to the nearest hundredth. See the resources tab for the formula.\n",
        "\n",
        "Examples\n",
        "cone_volume(3, 2) ➞ 12.57\n",
        "\n",
        "cone_volume(15, 6) ➞ 565.49\n",
        "cone_volume(18, 0) ➞ 0"
      ]
    },
    {
      "cell_type": "code",
      "metadata": {
        "colab": {
          "base_uri": "https://localhost:8080/"
        },
        "id": "k7DSuODmHmGv",
        "outputId": "cbbb5b9f-5659-47f1-a2fa-f58f517c216e"
      },
      "source": [
        "import math\n",
        "pi = math.pi\n",
        "def cone_volume(h, r):\n",
        "    return round((1 / 3) * pi * r * r * h)\n",
        "height = float(15)\n",
        "radius = float(6)\n",
        "print( \"Volume Of Cone : \", cone_volume(height, radius) )"
      ],
      "execution_count": 27,
      "outputs": [
        {
          "output_type": "stream",
          "name": "stdout",
          "text": [
            "Volume Of Cone :  565\n"
          ]
        }
      ]
    },
    {
      "cell_type": "code",
      "metadata": {
        "colab": {
          "base_uri": "https://localhost:8080/"
        },
        "id": "cX0O89juH4fw",
        "outputId": "4002a6e2-beb5-4a3a-8994-1adaeacbef42"
      },
      "source": [
        "cone_volume(3, 2)\n"
      ],
      "execution_count": 28,
      "outputs": [
        {
          "output_type": "execute_result",
          "data": {
            "text/plain": [
              "13"
            ]
          },
          "metadata": {},
          "execution_count": 28
        }
      ]
    },
    {
      "cell_type": "code",
      "metadata": {
        "colab": {
          "base_uri": "https://localhost:8080/"
        },
        "id": "2cLb7rgAIHei",
        "outputId": "d7d3dec9-fa51-4a0c-892f-24c51a00df1c"
      },
      "source": [
        "cone_volume(18, 0)\n"
      ],
      "execution_count": 29,
      "outputs": [
        {
          "output_type": "execute_result",
          "data": {
            "text/plain": [
              "0"
            ]
          },
          "metadata": {},
          "execution_count": 29
        }
      ]
    },
    {
      "cell_type": "markdown",
      "metadata": {
        "id": "TfSkR0oTKLna"
      },
      "source": [
        "Ques. 4: This Triangular Number Sequence is generated from a pattern of dots that form a triangle.\n",
        "The first 5 numbers of the sequence, or dots, are:\n",
        "1, 3, 6, 10, 15\n",
        "This means that the first triangle has just one dot, the second one has three dots, the third one\n",
        "has 6 dots and so on.\n",
        "Write a function that gives the number of dots with its corresponding triangle number of the\n",
        "sequence.\n",
        "Examples\n",
        "triangle(1) ➞ 1\n",
        "triangle(6) ➞ 21\n",
        "triangle(215) ➞ 23220\n",
        "A Rule\n",
        "We can make a \"Rule\" so we can calculate any triangular number.\n",
        "\n",
        "First, rearrange the dots like this:\n",
        "\n",
        "triangular numbers 1 to 5\n",
        "\n",
        "Then double the number of dots, and form them into a rectangle:\n",
        "\n",
        "triangular numbers when doubled become n by n+1 rectangles\n",
        "\n",
        "Now it is easy to work out how many dots: just multiply n by n+1"
      ]
    },
    {
      "cell_type": "code",
      "metadata": {
        "colab": {
          "base_uri": "https://localhost:8080/"
        },
        "id": "kPb1pTPlKD2M",
        "outputId": "18d1457f-e760-4d56-ed3e-4ef420e120cb"
      },
      "source": [
        "def triangle(n):\n",
        "    return n*(n+1)*0.5\n",
        "n = int(input('Enter the triangle number :'))\n",
        "print(\"The {}th triangle has {} dots \".format(n,int(triangle(n))))"
      ],
      "execution_count": 30,
      "outputs": [
        {
          "output_type": "stream",
          "name": "stdout",
          "text": [
            "Enter the triangle number :6\n",
            "The 6th triangle has 21 dots \n"
          ]
        }
      ]
    },
    {
      "cell_type": "code",
      "metadata": {
        "colab": {
          "base_uri": "https://localhost:8080/"
        },
        "id": "PleO_DbQKPI2",
        "outputId": "71949634-279c-436d-c381-a16640ee6b87"
      },
      "source": [
        "triangle(3)"
      ],
      "execution_count": 32,
      "outputs": [
        {
          "output_type": "execute_result",
          "data": {
            "text/plain": [
              "6.0"
            ]
          },
          "metadata": {},
          "execution_count": 32
        }
      ]
    },
    {
      "cell_type": "markdown",
      "metadata": {
        "id": "M7kTraFQKhlZ"
      },
      "source": [
        "Ques. 5: Create a function that takes a list of numbers between 1 and 10 (excluding one number) and\n",
        "returns the missing number.\n",
        "Examples\n",
        "missing_num([1, 2, 3, 4, 6, 7, 8, 9, 10]) ➞ 5\n",
        "missing_num([7, 2, 3, 6, 5, 9, 1, 4, 8]) ➞ 10\n",
        "missing_num([10, 5, 1, 2, 4, 6, 8, 3, 9]) ➞ 7"
      ]
    },
    {
      "cell_type": "code",
      "metadata": {
        "colab": {
          "base_uri": "https://localhost:8080/"
        },
        "id": "nvKDTevuKd-7",
        "outputId": "da5d101a-fe6b-4e3c-af60-7bb2535ec64f"
      },
      "source": [
        "def missing_num(lst):\n",
        "    total = sum([x for x in range(11)])\n",
        "    sum_Of_list = sum(lst)\n",
        "    return total - sum_Of_list\n",
        "\n",
        "print(missing_num([1, 2, 3, 4, 6, 7, 8, 9, 10]))"
      ],
      "execution_count": 33,
      "outputs": [
        {
          "output_type": "stream",
          "name": "stdout",
          "text": [
            "5\n"
          ]
        }
      ]
    },
    {
      "cell_type": "code",
      "metadata": {
        "colab": {
          "base_uri": "https://localhost:8080/"
        },
        "id": "1o6U-9FTK1eI",
        "outputId": "dced2e58-9a33-406d-ae2f-654e26963c22"
      },
      "source": [
        "missing_num([7, 2, 3, 6, 5, 9, 1, 4, 8])\n"
      ],
      "execution_count": 34,
      "outputs": [
        {
          "output_type": "execute_result",
          "data": {
            "text/plain": [
              "10"
            ]
          },
          "metadata": {},
          "execution_count": 34
        }
      ]
    },
    {
      "cell_type": "code",
      "metadata": {
        "colab": {
          "base_uri": "https://localhost:8080/"
        },
        "id": "4C-DI11VK22g",
        "outputId": "69769e81-52f5-45c4-cc99-49b1ef918f38"
      },
      "source": [
        "missing_num([10, 5, 1, 2, 4, 6, 8, 3, 9])\n"
      ],
      "execution_count": 35,
      "outputs": [
        {
          "output_type": "execute_result",
          "data": {
            "text/plain": [
              "7"
            ]
          },
          "metadata": {},
          "execution_count": 35
        }
      ]
    }
  ]
}