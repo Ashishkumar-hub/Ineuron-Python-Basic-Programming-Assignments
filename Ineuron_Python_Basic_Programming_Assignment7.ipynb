{
  "nbformat": 4,
  "nbformat_minor": 0,
  "metadata": {
    "colab": {
      "name": "Ineuron_Python_Basic_Programming_Assignment7.ipynb",
      "provenance": []
    },
    "kernelspec": {
      "name": "python3",
      "display_name": "Python 3"
    },
    "language_info": {
      "name": "python"
    }
  },
  "cells": [
    {
      "cell_type": "markdown",
      "source": [
        "**Ineuron Python Basic Programming Assignment 7**"
      ],
      "metadata": {
        "id": "jxXHId8lNcLN"
      }
    },
    {
      "cell_type": "markdown",
      "source": [
        "> 1. Write a Python Program to find sum of array?\n"
      ],
      "metadata": {
        "id": "BP_zhZugNlLe"
      }
    },
    {
      "cell_type": "code",
      "source": [
        "l = [1,2,3,4,5,6]\n",
        "sum = 0\n",
        "for i in range(len(l)):\n",
        "  sum += l[i]\n",
        "print(\"Sum of array: {}\".format(sum))\n"
      ],
      "metadata": {
        "colab": {
          "base_uri": "https://localhost:8080/"
        },
        "id": "n72bOZsDN0kL",
        "outputId": "da6f2c9c-99b4-4fc5-8283-19cd26c6e361"
      },
      "execution_count": 4,
      "outputs": [
        {
          "output_type": "stream",
          "name": "stdout",
          "text": [
            "Sum of array: 21\n"
          ]
        }
      ]
    },
    {
      "cell_type": "markdown",
      "source": [
        "> 2. Write a Python Program to find largest element in an array?"
      ],
      "metadata": {
        "id": "2JxZ5n6ANtwS"
      }
    },
    {
      "cell_type": "code",
      "source": [
        "l = [1,2,3,4,5,6]\n",
        "c = 0\n",
        "for i in range(len(l)):\n",
        "  if c > l[i]:\n",
        "    print(c)\n",
        "  else :\n",
        "    c = l[i]\n",
        "print(\"Largest element in {} is {}\".format(l ,c) )"
      ],
      "metadata": {
        "colab": {
          "base_uri": "https://localhost:8080/"
        },
        "id": "80engdYgO3kA",
        "outputId": "71ab1fef-14a7-4743-b231-3463d3f46155"
      },
      "execution_count": 10,
      "outputs": [
        {
          "output_type": "stream",
          "name": "stdout",
          "text": [
            "Largest element in [1, 2, 3, 4, 5, 6] is 6\n"
          ]
        }
      ]
    },
    {
      "cell_type": "markdown",
      "source": [
        "\n",
        "> 3. Write a Python Program for array rotation?"
      ],
      "metadata": {
        "id": "CJhltNytNvcj"
      }
    },
    {
      "cell_type": "code",
      "source": [
        "arr = [1,2,3,4,5,6]\n",
        "for i in range(l,-1,-1):\n",
        "  print(arr[i])"
      ],
      "metadata": {
        "colab": {
          "base_uri": "https://localhost:8080/"
        },
        "id": "4bnECbdVQJSl",
        "outputId": "77b16dfb-d900-43c0-b7ba-6307faa3f39f"
      },
      "execution_count": 16,
      "outputs": [
        {
          "output_type": "stream",
          "name": "stdout",
          "text": [
            "6\n",
            "5\n",
            "4\n",
            "3\n",
            "2\n",
            "1\n"
          ]
        }
      ]
    },
    {
      "cell_type": "markdown",
      "source": [
        "\n",
        "> 4. Write a Python Program to Split the array and add the first part to the end?"
      ],
      "metadata": {
        "id": "1hk8bN8sNw9S"
      }
    },
    {
      "cell_type": "code",
      "source": [
        "l = int(input(\"Enter the lenth of your list : \"))\n",
        "arr = []\n",
        "for i in range(l):\n",
        "    arr.append(int(input()))\n",
        "print(\"The List  \",arr)\n",
        "noro = int(input(\"Enter the number of elements to split  : \"))\n",
        "if noro > l:\n",
        "    print(\"can not split as elements to split is larger then list lengh\")\n",
        "else:\n",
        "    print(\"The split list is :\",arr[:noro])\n",
        "    arr[:] = arr[noro:l] + arr[:noro]\n",
        "    print(\"The List after split and add :\", arr)"
      ],
      "metadata": {
        "colab": {
          "base_uri": "https://localhost:8080/"
        },
        "id": "DyCMPBz3QssH",
        "outputId": "eb0dc101-e0ed-4919-c45d-094fa48bdce0"
      },
      "execution_count": 22,
      "outputs": [
        {
          "output_type": "stream",
          "name": "stdout",
          "text": [
            "Enter the lenth of your list : 4\n",
            "1\n",
            "2\n",
            "4\n",
            "5\n",
            "The List   [1, 2, 4, 5]\n",
            "Enter the number of elements to split  : 2\n",
            "The split list is : [1, 2]\n",
            "The List after split and add : [4, 5, 1, 2]\n"
          ]
        }
      ]
    },
    {
      "cell_type": "markdown",
      "source": [
        "\n",
        "> 5. Write a Python Program to check if given array is Monotonic?"
      ],
      "metadata": {
        "id": "y515kHMTNyKa"
      }
    },
    {
      "cell_type": "code",
      "source": [
        "l = int(input(\"Enter the lenth of your list : \"))\n",
        "arr = []\n",
        "for i in range(l):\n",
        "    arr.append(int(input()))\n",
        "print(\"The List is \",arr)\n",
        "if all((arr[i] <= arr[i+1] for i in range(l-1)) or (arr[i] >= lst[i+1] for i in range(l-1))):\n",
        "    print(\"Monotonic\")\n",
        "else:\n",
        "    print(\"Not Monotonic\")"
      ],
      "metadata": {
        "colab": {
          "base_uri": "https://localhost:8080/"
        },
        "id": "SJuSKaSANbOZ",
        "outputId": "e49fa732-0ff0-4517-ca91-de17942536a3"
      },
      "execution_count": 24,
      "outputs": [
        {
          "output_type": "stream",
          "name": "stdout",
          "text": [
            "Enter the lenth of your list : 5\n",
            "2\n",
            "6\n",
            "4\n",
            "6\n",
            "4\n",
            "The List is  [2, 6, 4, 6, 4]\n",
            "Not Monotonic\n"
          ]
        }
      ]
    }
  ]
}