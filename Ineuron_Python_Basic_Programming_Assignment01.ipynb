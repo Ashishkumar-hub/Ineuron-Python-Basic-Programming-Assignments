{
  "nbformat": 4,
  "nbformat_minor": 0,
  "metadata": {
    "colab": {
      "name": "Ineuron_Python_Basic_Programming_Assignment1.ipynb",
      "provenance": []
    },
    "kernelspec": {
      "name": "python3",
      "display_name": "Python 3"
    },
    "language_info": {
      "name": "python"
    }
  },
  "cells": [
    {
      "cell_type": "markdown",
      "source": [
        "**Ineuron Python Basic Programming Assignment 1**"
      ],
      "metadata": {
        "id": "EDbDzXw9bufz"
      }
    },
    {
      "cell_type": "markdown",
      "source": [
        "1. Write a Python program to print &quot;Hello Python&quot;?\n"
      ],
      "metadata": {
        "id": "a5stZlBbYbn8"
      }
    },
    {
      "cell_type": "code",
      "source": [
        "print(\"hello python\")"
      ],
      "metadata": {
        "colab": {
          "base_uri": "https://localhost:8080/"
        },
        "id": "jw84EFK-Yknz",
        "outputId": "928411c5-7e10-4712-e077-e76d77eba1e8"
      },
      "execution_count": 1,
      "outputs": [
        {
          "output_type": "stream",
          "name": "stdout",
          "text": [
            "hello python\n"
          ]
        }
      ]
    },
    {
      "cell_type": "markdown",
      "source": [
        "2. Write a Python program to do arithmetical operations addition and division.?\n"
      ],
      "metadata": {
        "id": "a8eXTNP8YeNW"
      }
    },
    {
      "cell_type": "code",
      "source": [
        "a = int(input(\"Enter value for a:\"))\n",
        "b = int(input(\"Enter value for b:\"))\n",
        "print(a+b,a/b)"
      ],
      "metadata": {
        "colab": {
          "base_uri": "https://localhost:8080/"
        },
        "id": "4L6V3Lx4YohA",
        "outputId": "b6b87cb0-92f6-42bb-b851-10ccfa662bd0"
      },
      "execution_count": 5,
      "outputs": [
        {
          "output_type": "stream",
          "name": "stdout",
          "text": [
            "Enter value for a:10\n",
            "Enter value for b:20\n",
            "30 0.5\n"
          ]
        }
      ]
    },
    {
      "cell_type": "markdown",
      "source": [
        "3. Write a Python program to find the area of a triangle?"
      ],
      "metadata": {
        "id": "tQv-eyO7YgOg"
      }
    },
    {
      "cell_type": "code",
      "source": [
        "base = int(input(\"Enter value for a:\"))\n",
        "height = int(input(\"Enter value for b:\"))\n",
        "area_of_triangle = 0.5*base*height \n",
        "print(area_of_triangle)"
      ],
      "metadata": {
        "colab": {
          "base_uri": "https://localhost:8080/"
        },
        "id": "hgT7nqt4Y2Mq",
        "outputId": "a2388809-90c4-447d-ca30-b10215391445"
      },
      "execution_count": 7,
      "outputs": [
        {
          "output_type": "stream",
          "name": "stdout",
          "text": [
            "Enter value for a:10\n",
            "Enter value for b:20\n",
            "100.0\n"
          ]
        }
      ]
    },
    {
      "cell_type": "markdown",
      "source": [
        "\n",
        "4. Write a Python program to swap two variables?"
      ],
      "metadata": {
        "id": "KY7AubeEYhkT"
      }
    },
    {
      "cell_type": "code",
      "source": [
        "a = int(input(\"Enter value for a:\"))\n",
        "b = int(input(\"Enter value for b:\"))\n",
        "a, b = b, a\n",
        "print(\"value of a: {}\".format(a),\"\\t\" \"value of b: {}\".format(b))"
      ],
      "metadata": {
        "colab": {
          "base_uri": "https://localhost:8080/"
        },
        "id": "RokjnLykZqyj",
        "outputId": "c31bf5c1-ce18-4fb3-9128-266d81d1c836"
      },
      "execution_count": 10,
      "outputs": [
        {
          "output_type": "stream",
          "name": "stdout",
          "text": [
            "Enter value for a:10\n",
            "Enter value for b:20\n",
            "value of a: 20 \tvalue of b: 10\n"
          ]
        }
      ]
    },
    {
      "cell_type": "markdown",
      "source": [
        "\n",
        "5. Write a Python program to generate a random number?"
      ],
      "metadata": {
        "id": "wrCZMKcAYiyH"
      }
    },
    {
      "cell_type": "code",
      "source": [
        "import random\n",
        "for i in range(1,10):\n",
        "  print(random.randrange(i))"
      ],
      "metadata": {
        "colab": {
          "base_uri": "https://localhost:8080/"
        },
        "id": "45Xxidn1YbNk",
        "outputId": "1cda1b0b-36b5-466a-d1bd-2bb9e3671c7a"
      },
      "execution_count": 15,
      "outputs": [
        {
          "output_type": "stream",
          "name": "stdout",
          "text": [
            "0\n",
            "0\n",
            "1\n",
            "3\n",
            "0\n",
            "2\n",
            "3\n",
            "0\n",
            "2\n"
          ]
        }
      ]
    }
  ]
}
