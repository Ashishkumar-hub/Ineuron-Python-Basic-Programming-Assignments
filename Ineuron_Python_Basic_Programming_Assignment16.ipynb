{
  "nbformat": 4,
  "nbformat_minor": 0,
  "metadata": {
    "colab": {
      "name": "Ineuron_Python_Basic_Programming_Assignment16.ipynb",
      "provenance": []
    },
    "kernelspec": {
      "name": "python3",
      "display_name": "Python 3"
    },
    "language_info": {
      "name": "python"
    }
  },
  "cells": [
    {
      "cell_type": "markdown",
      "metadata": {
        "id": "ii8lj491oYuu"
      },
      "source": [
        "**Ineuron Python Basic Programming Assignment 16**"
      ]
    },
    {
      "cell_type": "markdown",
      "metadata": {
        "id": "i3WcwabnoYoM"
      },
      "source": [
        "Ques. 1: Write a function that stutters a word as if someone is struggling to read it. The\n",
        "first two letters are repeated twice with an ellipsis ... and space after each, and then the\n",
        "word is pronounced with a question mark ?.\n",
        "Examples\n",
        "stutter('incredible') ➞ 'in... in... incredible?'\n",
        "stutter('enthusiastic') ➞ 'en... en... enthusiastic?'\n",
        "stutter('outstanding') ➞ 'ou... ou... outstanding?'\n",
        "\n",
        "Hint :- Assume all input is in lower case and at least two characters long."
      ]
    },
    {
      "cell_type": "code",
      "metadata": {
        "colab": {
          "base_uri": "https://localhost:8080/"
        },
        "id": "r2N6T9TyoVuN",
        "outputId": "1f409e8b-289b-4c1a-d7c1-eb089ccda103"
      },
      "source": [
        "def stutter(word):\n",
        "    return (2*(word[:2]+'... '))+word+'?'\n",
        "word = input('Enter word : ')\n",
        "print(stutter(word))"
      ],
      "execution_count": 1,
      "outputs": [
        {
          "output_type": "stream",
          "name": "stdout",
          "text": [
            "Enter word : outstanding\n",
            "ou... ou... outstanding?\n"
          ]
        }
      ]
    },
    {
      "cell_type": "markdown",
      "metadata": {
        "id": "mwaKUfk6ozI4"
      },
      "source": [
        "Ques. 2: Create a function that takes an angle in radians and returns the corresponding\n",
        "angle in degrees rounded to one decimal place.\n",
        "Examples\n",
        "radians_to_degrees(1) ➞ 57.3\n",
        "radians_to_degrees(20) ➞ 1145.9\n",
        "radians_to_degrees(50) ➞ 2864.8"
      ]
    },
    {
      "cell_type": "code",
      "metadata": {
        "colab": {
          "base_uri": "https://localhost:8080/"
        },
        "id": "ysBuDxtYotJ1",
        "outputId": "4b8216b9-b866-4141-9039-ebcbb240cf51"
      },
      "source": [
        "def radians_to_degrees(radian):\n",
        "    pi = 3.14159\n",
        "    degree = radian * (180/pi)\n",
        "    return degree\n",
        "radian = float(input('Enter the Radian : '))\n",
        "print(\"degree =\",(radians_to_degrees(radian)))"
      ],
      "execution_count": 2,
      "outputs": [
        {
          "output_type": "stream",
          "name": "stdout",
          "text": [
            "Enter the Radian : 50\n",
            "degree = 2864.7913954398887\n"
          ]
        }
      ]
    },
    {
      "cell_type": "markdown",
      "metadata": {
        "id": "Ku86fE4jo8so"
      },
      "source": [
        "Ques. 3: In this challenge, establish if a given integer num is a Curzon number. If 1 plus\n",
        "2 elevated to num is exactly divisible by 1 plus 2 multiplied by num, then num is a Curzon\n",
        "number.\n",
        "Given a non-negative integer num, implement a function that returns True if num is a Curzon\n",
        "number, or False otherwise.\n",
        "Examples\n",
        "is_curzon(5) ➞ True\n",
        "2 ** 5 + 1 = 33\n",
        "2 * 5 + 1 = 11\n",
        "33 is a multiple of 11\n",
        "is_curzon(10) ➞ False\n",
        "2 ** 10 + 1 = 1025\n",
        "2 * 10 + 1 = 21\n",
        "1025 is not a multiple of 21\n",
        "is_curzon(14) ➞ True\n",
        "2 ** 14 + 1 = 16385\n",
        "2 * 14 + 1 = 29\n",
        "16385 is a multiple of 29"
      ]
    },
    {
      "cell_type": "code",
      "metadata": {
        "colab": {
          "base_uri": "https://localhost:8080/"
        },
        "id": "YfCI1bmKo3ck",
        "outputId": "17c63606-7f5f-4454-9a1a-3d1cc7e3d952"
      },
      "source": [
        "def CurzonNumber(n):\n",
        " \n",
        "    power, product = 0, 0\n",
        "    power = pow(2, n) + 1 \n",
        "    product = 2 * n + 1\n",
        " \n",
        "    if (power % product == 0):\n",
        "        print(n, \"is Curzon Number\")\n",
        "    else:\n",
        "        print(n, \"is not a Curzon Number\")\n",
        "        \n",
        "n = int(input('Enter a number : '))\n",
        "CurzonNumber(n)"
      ],
      "execution_count": 3,
      "outputs": [
        {
          "output_type": "stream",
          "name": "stdout",
          "text": [
            "Enter a number : 5\n",
            "5 is Curzon Number\n"
          ]
        }
      ]
    },
    {
      "cell_type": "markdown",
      "metadata": {
        "id": "70kCJDw8pXLw"
      },
      "source": [
        "Ques. 4: Given the side length x find the area of a hexagon.\n",
        "\n",
        "Examples\n",
        "area_of_hexagon(1) ➞ 2.6\n",
        "area_of_hexagon(2) ➞ 10.4\n",
        "area_of_hexagon(3) ➞ 23.4"
      ]
    },
    {
      "cell_type": "code",
      "metadata": {
        "colab": {
          "base_uri": "https://localhost:8080/"
        },
        "id": "DFDmFx7bpTr3",
        "outputId": "86e9d41e-015e-4557-ace9-619591d5bd8d"
      },
      "source": [
        "import math\n",
        "def area_of_hexagon(s):     \n",
        "    return ((3 * math.sqrt(3) * (sideLength * sideLength)) / 2);     \n",
        "\n",
        "sideLength = float(input('Enter the length : '))\n",
        "\n",
        "print(\"Area:\",\"{0:.4f}\".format(area_of_hexagon(sideLength)))"
      ],
      "execution_count": 4,
      "outputs": [
        {
          "output_type": "stream",
          "name": "stdout",
          "text": [
            "Enter the length : 2.6\n",
            "Area: 17.5630\n"
          ]
        }
      ]
    },
    {
      "cell_type": "markdown",
      "metadata": {
        "id": "sa42izsppkLh"
      },
      "source": [
        "Ques. 5: Create a function that returns a base-2 (binary) representation of a base-10\n",
        "(decimal) string number. To convert is simple: ((2) means base-2 and (10) means base-10)\n",
        "010101001(2) = 1 + 8 + 32 + 128.\n",
        "Going from right to left, the value of the most right bit is 1, now from that every bit to the left\n",
        "will be x2 the value, value of an 8 bit binary numbers are (256, 128, 64, 32, 16, 8, 4, 2, 1).\n",
        "Examples\n",
        "binary(1) ➞ '1'\n",
        " 1*1 = 1\n",
        "binary(5) ➞ '101'\n",
        "1*1 + 1*4 = 5\n",
        "binary(10) ➞ '1010'\n",
        "1*2 + 1*8 = 10"
      ]
    },
    {
      "cell_type": "code",
      "metadata": {
        "colab": {
          "base_uri": "https://localhost:8080/"
        },
        "id": "m3Z6njflpefU",
        "outputId": "cc5552d0-d1ee-40b7-db21-de03138d2e4d"
      },
      "source": [
        "def decimalToBinary(n):\n",
        "    return bin(n).replace(\"0b\", \"\")\n",
        "   \n",
        "for i in range(0,50):\n",
        "    print(decimalToBinary(i))"
      ],
      "execution_count": 5,
      "outputs": [
        {
          "output_type": "stream",
          "name": "stdout",
          "text": [
            "0\n",
            "1\n",
            "10\n",
            "11\n",
            "100\n",
            "101\n",
            "110\n",
            "111\n",
            "1000\n",
            "1001\n",
            "1010\n",
            "1011\n",
            "1100\n",
            "1101\n",
            "1110\n",
            "1111\n",
            "10000\n",
            "10001\n",
            "10010\n",
            "10011\n",
            "10100\n",
            "10101\n",
            "10110\n",
            "10111\n",
            "11000\n",
            "11001\n",
            "11010\n",
            "11011\n",
            "11100\n",
            "11101\n",
            "11110\n",
            "11111\n",
            "100000\n",
            "100001\n",
            "100010\n",
            "100011\n",
            "100100\n",
            "100101\n",
            "100110\n",
            "100111\n",
            "101000\n",
            "101001\n",
            "101010\n",
            "101011\n",
            "101100\n",
            "101101\n",
            "101110\n",
            "101111\n",
            "110000\n",
            "110001\n"
          ]
        }
      ]
    }
  ]
}