{
  "nbformat": 4,
  "nbformat_minor": 0,
  "metadata": {
    "colab": {
      "name": "Ineuron_Python_Basic_Programming_Assignment2.ipynb",
      "provenance": []
    },
    "kernelspec": {
      "name": "python3",
      "display_name": "Python 3"
    },
    "language_info": {
      "name": "python"
    }
  },
  "cells": [
    {
      "cell_type": "markdown",
      "source": [
        "**Ineuron Python Basic Programming Assignment 2**"
      ],
      "metadata": {
        "id": "Vnd76joddEVF"
      }
    },
    {
      "cell_type": "markdown",
      "source": [
        "1. Write a Python program to convert kilometers to miles?"
      ],
      "metadata": {
        "id": "dwToEmaHc4H2"
      }
    },
    {
      "cell_type": "code",
      "source": [
        "#1 kilometer (km) = 0.62137 miles (mi)\n",
        "value_to_convert = int(input(\"Enter Value: \"))\n",
        "store_converted_value = 0.62137*value_to_convert\n",
        "print(store_converted_value)"
      ],
      "metadata": {
        "colab": {
          "base_uri": "https://localhost:8080/"
        },
        "id": "nbiZHfHXdNvk",
        "outputId": "c5c9ed9a-2499-4115-e718-8e42ebf15230"
      },
      "execution_count": 1,
      "outputs": [
        {
          "output_type": "stream",
          "name": "stdout",
          "text": [
            "Enter Value: 10\n",
            "6.213699999999999\n"
          ]
        }
      ]
    },
    {
      "cell_type": "markdown",
      "source": [
        "\n",
        "2. Write a Python program to convert Celsius to Fahrenheit?"
      ],
      "metadata": {
        "id": "jSTHhBw2c6gz"
      }
    },
    {
      "cell_type": "code",
      "source": [
        "# formula : (0°C × 1.8) + 32\n",
        "Celsius = int(input(\"Enter value for Celsius: \"))\n",
        "Fahrenheit_value = Celsius*1.8+32\n",
        "print(\"COnverted temperature to fahrenheit:{}\".format(Fahrenheit_value))"
      ],
      "metadata": {
        "colab": {
          "base_uri": "https://localhost:8080/"
        },
        "id": "El8dhEe_eBel",
        "outputId": "e7804d68-f1a4-407d-da5d-e2214218f861"
      },
      "execution_count": 3,
      "outputs": [
        {
          "output_type": "stream",
          "name": "stdout",
          "text": [
            "Enter value for Celsius: 20\n",
            "COnverted temperature to fahrenheit:68.0\n"
          ]
        }
      ]
    },
    {
      "cell_type": "markdown",
      "source": [
        "3. Write a Python program to display calendar?"
      ],
      "metadata": {
        "id": "rAFvZhKHc7iz"
      }
    },
    {
      "cell_type": "code",
      "source": [
        "import calendar\n",
        "year_ = int(input(\"Enter Year:\"))\n",
        "month_ = int(input(\"Enter Month:\"))   \n",
        "print(calendar.month(year_, month_))"
      ],
      "metadata": {
        "colab": {
          "base_uri": "https://localhost:8080/"
        },
        "id": "m3ptVGzIfboH",
        "outputId": "0eb22a05-84f1-43a3-801b-3889f048059e"
      },
      "execution_count": 4,
      "outputs": [
        {
          "output_type": "stream",
          "name": "stdout",
          "text": [
            "Enter Year:2022\n",
            "Enter Month:1\n",
            "    January 2022\n",
            "Mo Tu We Th Fr Sa Su\n",
            "                1  2\n",
            " 3  4  5  6  7  8  9\n",
            "10 11 12 13 14 15 16\n",
            "17 18 19 20 21 22 23\n",
            "24 25 26 27 28 29 30\n",
            "31\n",
            "\n"
          ]
        }
      ]
    },
    {
      "cell_type": "markdown",
      "source": [
        "\n",
        "4. Write a Python program to solve quadratic equation?"
      ],
      "metadata": {
        "id": "JOQ0Brs9dAhG"
      }
    },
    {
      "cell_type": "code",
      "source": [
        "#x=-b+-sqrt(b**2-4ac)/2*a\n",
        "#a, b, c\t=\tknown numbers, where a ≠ 0\n",
        "#x\t=\tthe unknown\n",
        "import cmath\n",
        "a=int(input(\"Enter a = \"))\n",
        "b=int(input(\"Enter b = \"))\n",
        "c=int(input(\"Enter c = \"))\n",
        "discriminant = (b**2)-(4*a*c)\n",
        "sol_one = (-b+cmath.sqrt(discriminant))/(2*a)\n",
        "sol_two = (-b-cmath.sqrt(discriminant))/(2*a)\n",
        "print(sol_one ,\",\", sol_two)"
      ],
      "metadata": {
        "colab": {
          "base_uri": "https://localhost:8080/"
        },
        "id": "gxzwPbnigDIz",
        "outputId": "44040d02-d887-42fd-c04a-687c699fb636"
      },
      "execution_count": 11,
      "outputs": [
        {
          "output_type": "stream",
          "name": "stdout",
          "text": [
            "Enter a = 1\n",
            "Enter b = 5\n",
            "Enter c = 7\n",
            "(-2.5+0.8660254037844386j) , (-2.5-0.8660254037844386j)\n"
          ]
        }
      ]
    },
    {
      "cell_type": "markdown",
      "source": [
        "\n",
        "5. Write a Python program to swap two variables without temp variable?"
      ],
      "metadata": {
        "id": "It8YEzlldBht"
      }
    },
    {
      "cell_type": "code",
      "source": [
        "a=int(input(\"Enter a = \"))\n",
        "b=int(input(\"Enter b = \"))\n",
        "a, b, = b, a\n",
        "print(\"Value for a: {}\".format(a), \"value for b: {}\".format(b))"
      ],
      "metadata": {
        "colab": {
          "base_uri": "https://localhost:8080/"
        },
        "id": "aw2cZOf8iFYE",
        "outputId": "677a1384-adae-4373-d4f3-4dddc88cbc05"
      },
      "execution_count": 14,
      "outputs": [
        {
          "output_type": "stream",
          "name": "stdout",
          "text": [
            "Enter a = 10\n",
            "Enter b = 20\n",
            "Value for a: 20 value for b: 10\n"
          ]
        }
      ]
    }
  ]
}
