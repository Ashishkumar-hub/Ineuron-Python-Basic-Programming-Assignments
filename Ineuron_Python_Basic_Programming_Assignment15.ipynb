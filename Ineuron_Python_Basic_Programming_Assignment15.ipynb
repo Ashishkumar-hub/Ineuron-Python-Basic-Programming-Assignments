{
  "nbformat": 4,
  "nbformat_minor": 0,
  "metadata": {
    "colab": {
      "name": "Ineuron_Python_Basic_Programming_Assignment15.ipynb",
      "provenance": []
    },
    "kernelspec": {
      "name": "python3",
      "display_name": "Python 3"
    },
    "language_info": {
      "name": "python"
    }
  },
  "cells": [
    {
      "cell_type": "markdown",
      "metadata": {
        "id": "MEGrNL1Uin_3"
      },
      "source": [
        "**Ineuron Python Basic Programming Assignment 15**"
      ]
    },
    {
      "cell_type": "markdown",
      "metadata": {
        "id": "f8znqYKPjDos"
      },
      "source": [
        "Ques 1: Please write a program using generator to print the numbers which can be divisible by 5 and\n",
        "7 between 0 and n in comma separated form while n is input by console.\n",
        "Example:\n",
        "If the following n is given as input to the program:\n",
        "100\n",
        "Then, the output of the program should be:\n",
        "0,35,70"
      ]
    },
    {
      "cell_type": "code",
      "metadata": {
        "colab": {
          "base_uri": "https://localhost:8080/"
        },
        "id": "nPaXwYX2icEx",
        "outputId": "6f193c27-e75d-4d4a-d5b6-8afccc723257"
      },
      "source": [
        "def getno(n): \n",
        "    i = 0 \n",
        "    while i < n:\n",
        "        j = i\n",
        "        i += 1 \n",
        "        if j % 7 == 0 and j % 5 == 0:\n",
        "            yield j\n",
        "n = int(input('enter n : '))\n",
        "num =[]\n",
        "for i in getno(n): \n",
        "    num.append(str(i))\n",
        "print(','.join(num))"
      ],
      "execution_count": 2,
      "outputs": [
        {
          "output_type": "stream",
          "name": "stdout",
          "text": [
            "enter n : 100\n",
            "0,35,70\n"
          ]
        }
      ]
    },
    {
      "cell_type": "markdown",
      "metadata": {
        "id": "x2MpxNwcjei6"
      },
      "source": [
        "Ques 2: Please write a program using generator to print the even numbers between 0 and n in comma\n",
        "separated form while n is input by console.\n",
        "Example:\n",
        "If the following n is given as input to the program:\n",
        "10\n",
        "Then, the output of the program should be:\n",
        "0,2,4,6,8,10"
      ]
    },
    {
      "cell_type": "code",
      "metadata": {
        "colab": {
          "base_uri": "https://localhost:8080/"
        },
        "id": "gYKnYxnzjO8j",
        "outputId": "52f9491a-26bf-4b81-bf00-9c384786edf1"
      },
      "source": [
        "def getno(n): \n",
        "    i = 0 \n",
        "    while i < n:\n",
        "        j = i\n",
        "        i += 1 \n",
        "        if j % 2 == 0:\n",
        "            yield j\n",
        "n = int(input('enter n : '))\n",
        "num =[]\n",
        "for i in getno(n): \n",
        "    num.append(str(i))    \n",
        "print(','.join(num))"
      ],
      "execution_count": 3,
      "outputs": [
        {
          "output_type": "stream",
          "name": "stdout",
          "text": [
            "enter n : 10\n",
            "0,2,4,6,8\n"
          ]
        }
      ]
    },
    {
      "cell_type": "markdown",
      "metadata": {
        "id": "fSL6Zj2ojnSb"
      },
      "source": [
        "Ques 3: The Fibonacci Sequence is computed based on the following formula:\n",
        "f(n)=0 if n=0\n",
        "f(n)=1 if n=1\n",
        "f(n)=f(n-1)+f(n-2) if n > 1\n",
        "Please write a program using list comprehension to print the Fibonacci Sequence in comma\n",
        "separated form with a given n input by console.\n",
        "Example:\n",
        "If the following n is given as input to the program:\n",
        "7\n",
        "\n",
        "Then, the output of the program should be:\n",
        "0,1,1,2,3,5,8,13"
      ]
    },
    {
      "cell_type": "code",
      "metadata": {
        "colab": {
          "base_uri": "https://localhost:8080/"
        },
        "id": "2ERmY_lzjkUA",
        "outputId": "5e712605-daf3-4524-ccb4-e6d4d9857a0e"
      },
      "source": [
        "def fib(n):    \n",
        "    if n == 0: \n",
        "            return 0    \n",
        "    elif n == 1: \n",
        "            return 1    \n",
        "    else: \n",
        "            return fib(n-1)+fib(n-2)\n",
        "n=int(input('Enter a number :')) \n",
        "values = [str(fib(x)) for x in range(0, n+1)] \n",
        "print(\",\".join(values))"
      ],
      "execution_count": 4,
      "outputs": [
        {
          "output_type": "stream",
          "name": "stdout",
          "text": [
            "Enter a number :7\n",
            "0,1,1,2,3,5,8,13\n"
          ]
        }
      ]
    },
    {
      "cell_type": "markdown",
      "metadata": {
        "id": "eGrK3Igijvzy"
      },
      "source": [
        "Ques 4: Assuming that we have some email addresses in the 'username@companyname.com' format,\n",
        "please write program to print the user name of a given email address. Both user names and\n",
        "company names are composed of letters only.\n",
        "Example:\n",
        "If the following email address is given as input to the program:\n",
        "john@google.com\n",
        "Then, the output of the program should be:\n",
        "john"
      ]
    },
    {
      "cell_type": "code",
      "metadata": {
        "colab": {
          "base_uri": "https://localhost:8080/"
        },
        "id": "_qBdczyFjqa0",
        "outputId": "c7a19f33-f2bd-4671-f0e7-4f0f258ac219"
      },
      "source": [
        "email = input(\"Enter the email address : \").split('@')\n",
        "company = str(email[1]).split('.')\n",
        "print(\"User name : \",email[0])\n",
        "print(\"Company name : \",company[0])"
      ],
      "execution_count": 5,
      "outputs": [
        {
          "output_type": "stream",
          "name": "stdout",
          "text": [
            "Enter the email address :  john@google.com\n",
            "User name :   john\n",
            "Company name :  google\n"
          ]
        }
      ]
    },
    {
      "cell_type": "markdown",
      "metadata": {
        "id": "3KjeaufllP0s"
      },
      "source": [
        "Ques 5: Define a class named Shape and its subclass Square. The Square class has an init function\n",
        "which takes a length as argument. Both classes have a area function which can print the area\n",
        "of the shape where Shape's area is 0 by default.\n"
      ]
    },
    {
      "cell_type": "code",
      "metadata": {
        "colab": {
          "base_uri": "https://localhost:8080/"
        },
        "id": "vs0HaOdnk0s8",
        "outputId": "aff3be30-9e30-4ab9-c67d-2da390f84276"
      },
      "source": [
        "class Shape(object):\n",
        "  def __init__(self):\n",
        "    pass\n",
        "\n",
        "  def area(self):\n",
        "     return 0\n",
        "\n",
        "class Square(Shape):\n",
        "  def __init__(self,l):    \n",
        "    self.length = l\n",
        "\n",
        "  def area(self):\n",
        "    return self.length*self.length\n",
        "\n",
        "obsquare = Square(9)\n",
        "obsquare.area()"
      ],
      "execution_count": 6,
      "outputs": [
        {
          "output_type": "execute_result",
          "data": {
            "text/plain": [
              "81"
            ]
          },
          "metadata": {},
          "execution_count": 6
        }
      ]
    }
  ]
}