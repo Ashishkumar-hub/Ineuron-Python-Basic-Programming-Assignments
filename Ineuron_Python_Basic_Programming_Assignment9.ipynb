{
  "nbformat": 4,
  "nbformat_minor": 0,
  "metadata": {
    "colab": {
      "name": "Ineuron_Python_Basic_Programming_Assignment9.ipynb",
      "provenance": []
    },
    "kernelspec": {
      "name": "python3",
      "display_name": "Python 3"
    },
    "language_info": {
      "name": "python"
    }
  },
  "cells": [
    {
      "cell_type": "markdown",
      "source": [
        "**Ineuron Python Basic Programming Assignment 9**"
      ],
      "metadata": {
        "id": "_t6b_MFEYGlU"
      }
    },
    {
      "cell_type": "markdown",
      "source": [
        "1. Write a Python program to check if the given number is a Disarium Number?"
      ],
      "metadata": {
        "id": "60H4UJfyYGhg"
      }
    },
    {
      "cell_type": "code",
      "source": [
        "#A number is said to be the Disarium number when the sum of its digit\n",
        "#raised to the power of their respective positions becomes equal to the number itself.\n",
        "#Ex: 1¹ + 7² + 5³ = 1 + 49 + 125= 175.\n",
        "def Disarium(num):\n",
        "    sum = 0\n",
        "    while(num>0):\n",
        "        l= len(str(num))\n",
        "        no = num%10\n",
        "        sum= sum + no**l   \n",
        "        l-=1\n",
        "        num = num//10\n",
        "    return sum\n",
        "num = int(input(\"Enter the number :\"))\n",
        "sum = Disarium(num)\n",
        "if sum == num:\n",
        "    print(num,\"Number is Disarium\")\n",
        "else:\n",
        "    print(num,\"Number is not Disarium\")\n"
      ],
      "metadata": {
        "colab": {
          "base_uri": "https://localhost:8080/"
        },
        "id": "60_jBY0-YWE6",
        "outputId": "2d29cea5-dedb-47f7-8339-b39df7492aef"
      },
      "execution_count": 4,
      "outputs": [
        {
          "output_type": "stream",
          "name": "stdout",
          "text": [
            "Enter the number :175\n",
            "175 Number is Disarium\n"
          ]
        }
      ]
    },
    {
      "cell_type": "markdown",
      "source": [
        "2. Write a Python program to print all disarium numbers between 1 to 100?\n"
      ],
      "metadata": {
        "id": "2sDHy-7WYGeX"
      }
    },
    {
      "cell_type": "code",
      "source": [
        "def Disarium(num):\n",
        "    sum = 0\n",
        "    while(num>0):\n",
        "        l= len(str(num))\n",
        "        no = num%10\n",
        "        sum= sum + no**l   \n",
        "        l-=1\n",
        "        num = num//10\n",
        "    return sum\n",
        "print(\"Disarium no in range 1 to 100\")\n",
        "disno = []\n",
        "for i in range(1,101):\n",
        "    sum = 0\n",
        "    sum = Disarium(i)\n",
        "    if sum == i:\n",
        "        disno.append(i)        \n",
        "print(disno)"
      ],
      "metadata": {
        "colab": {
          "base_uri": "https://localhost:8080/"
        },
        "id": "UIPla6w9dgE8",
        "outputId": "63139a81-e734-41ec-96aa-5e7931bbf832"
      },
      "execution_count": 5,
      "outputs": [
        {
          "output_type": "stream",
          "name": "stdout",
          "text": [
            "Disarium no in range 1 to 100\n",
            "[1, 2, 3, 4, 5, 6, 7, 8, 9, 89]\n"
          ]
        }
      ]
    },
    {
      "cell_type": "markdown",
      "source": [
        "3. Write a Python program to check if the given number is Happy Number?"
      ],
      "metadata": {
        "id": "IprcF3NxYGbt"
      }
    },
    {
      "cell_type": "code",
      "source": [
        "#In number theory, a happy number is a number which eventually reaches 1 when replaced by the sum of the square of each digit. \n",
        "#For instance, 13 is a happy number because 1^{2}+3^{2}=10; and 1^{2}+0^{2}=1\n",
        "def Happy(num):\n",
        "    sum = 0\n",
        "    while(num>0):\n",
        "        dig = num%10\n",
        "        sum= sum + dig**2        \n",
        "        num = num//10\n",
        "    return sum\n",
        "num = int(input(\"Enter the number :\"))\n",
        "result = num\n",
        "while (result != 1 and result != 4):\n",
        "    result = Happy(result)\n",
        "if result == 1:\n",
        "    print(num,\"Is a Happy Number\")\n",
        "else:\n",
        "    print(num,\" Is a Unhappy Number\")"
      ],
      "metadata": {
        "colab": {
          "base_uri": "https://localhost:8080/"
        },
        "id": "aBTsDc7af-Gf",
        "outputId": "15d4c56e-0ecb-4508-b605-96a6f5466ae2"
      },
      "execution_count": 7,
      "outputs": [
        {
          "output_type": "stream",
          "name": "stdout",
          "text": [
            "Enter the number :13\n",
            "13 Is a Happy Number\n"
          ]
        }
      ]
    },
    {
      "cell_type": "markdown",
      "source": [
        "\n",
        "4. Write a Python program to print all happy numbers between 1 and 100?"
      ],
      "metadata": {
        "id": "pJzV6XCAYGYu"
      }
    },
    {
      "cell_type": "code",
      "source": [
        "def Happy(num):\n",
        "    sum = 0\n",
        "    while(num>0):\n",
        "        dig = num%10\n",
        "        sum= sum + dig**2        \n",
        "        num = num//10\n",
        "    return sum\n",
        "print(\"Happy numbers in range 1 to 100\")\n",
        "result=num=i=0\n",
        "happyNo = []\n",
        "for i in range(1,101):\n",
        "    result = i\n",
        "    while (result != 1 and result != 4):\n",
        "        result = Happy(result)    \n",
        "    if result == 1:\n",
        "        happyNo.append(i)\n",
        "print(happyNo)"
      ],
      "metadata": {
        "colab": {
          "base_uri": "https://localhost:8080/"
        },
        "id": "A9UzA7-ai6qz",
        "outputId": "e0e97740-3523-45e9-a56c-a660897e982b"
      },
      "execution_count": 8,
      "outputs": [
        {
          "output_type": "stream",
          "name": "stdout",
          "text": [
            "Happy numbers in range 1 to 100\n",
            "[1, 7, 10, 13, 19, 23, 28, 31, 32, 44, 49, 68, 70, 79, 82, 86, 91, 94, 97, 100]\n"
          ]
        }
      ]
    },
    {
      "cell_type": "markdown",
      "source": [
        "\n",
        "5. Write a Python program to determine whether the given number is a Harshad Number?"
      ],
      "metadata": {
        "id": "mskYX4ImYGWl"
      }
    },
    {
      "cell_type": "code",
      "source": [
        "#if a number is divisible by the sum of its digits, then it will be known as a Harshad Number Ex 21 SUM OF DIGITS 3 21 IS DIVISIBLE BY 3  \n",
        "def Harshad_Number(num):\n",
        "    sum = 0\n",
        "    while(num>0):\n",
        "        dig = num%10\n",
        "        sum= sum + dig      \n",
        "        num = num//10\n",
        "    return sum\n",
        "num = int(input(\"Enter no. :\"))\n",
        "sum = Harshad_Number(num)\n",
        "if num % sum == 0:\n",
        "    print(num,\"Is a Harshad number\")\n",
        "else:\n",
        "    print(num,\"Is not a Harshad number\")"
      ],
      "metadata": {
        "colab": {
          "base_uri": "https://localhost:8080/"
        },
        "id": "i5cDaPb8jP1o",
        "outputId": "13e9a0ad-807d-49cd-8431-01f43ea20c43"
      },
      "execution_count": 10,
      "outputs": [
        {
          "output_type": "stream",
          "name": "stdout",
          "text": [
            "Enter no. :21\n",
            "21 Is a Harshad number\n"
          ]
        }
      ]
    },
    {
      "cell_type": "markdown",
      "source": [
        "\n",
        "6. Write a Python program to print all pronic numbers between 1 and 100?"
      ],
      "metadata": {
        "id": "Mg7teRIjYGUz"
      }
    },
    {
      "cell_type": "code",
      "source": [
        "# Example : 6 = 2*3 = 2(2+1)\n",
        "def PronicNo(num):\n",
        "    Pronic = False\n",
        "    for i in range(1,num+1):\n",
        "        if i*(i+1) == num:\n",
        "            Pronic = True\n",
        "            break\n",
        "    return Pronic\n",
        "print(\"Pronic numbers in range 1 to 100\")\n",
        "pronicno = []\n",
        "for i in range(1,101):\n",
        "    if PronicNo(i):\n",
        "        pronicno.append(i)\n",
        "print(pronicno)"
      ],
      "metadata": {
        "colab": {
          "base_uri": "https://localhost:8080/"
        },
        "id": "AJ0x2I1gjqcS",
        "outputId": "a5fa0c79-0a7e-4cf3-e278-6ae27fe0a59c"
      },
      "execution_count": 11,
      "outputs": [
        {
          "output_type": "stream",
          "name": "stdout",
          "text": [
            "Pronic numbers in range 1 to 100\n",
            "[2, 6, 12, 20, 30, 42, 56, 72, 90]\n"
          ]
        }
      ]
    }
  ]
}