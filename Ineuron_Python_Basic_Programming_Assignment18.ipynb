{
  "nbformat": 4,
  "nbformat_minor": 0,
  "metadata": {
    "colab": {
      "name": "Ineuron_Python_Basic_Programming_Assignment18.ipynb",
      "provenance": []
    },
    "kernelspec": {
      "name": "python3",
      "display_name": "Python 3"
    },
    "language_info": {
      "name": "python"
    }
  },
  "cells": [
    {
      "cell_type": "markdown",
      "metadata": {
        "id": "Ftn9zOqDPhCh"
      },
      "source": [
        "**Ineuron Python Basic Programming Assignment18**"
      ]
    },
    {
      "cell_type": "markdown",
      "metadata": {
        "id": "gKRX62LAPmcR"
      },
      "source": [
        "Ques 1. Create a function that takes a list of non-negative integers and strings and return a new list\n",
        "without the strings.\n",
        "Examples\n",
        "filter_list([1, 2, 'a', 'b']) ➞ [1, 2]\n",
        "filter_list([1, 'a', 'b', 0, 15]) ➞ [1, 0, 15]\n",
        "filter_list([1, 2, 'aasf', '1', '123', 123]) ➞ [1, 2, 123]"
      ]
    },
    {
      "cell_type": "code",
      "metadata": {
        "colab": {
          "base_uri": "https://localhost:8080/"
        },
        "id": "fY9uXA5tPRuD",
        "outputId": "31cfccc1-9c96-4be4-e64e-85de7edaefe7"
      },
      "source": [
        "l = [1,2,'a','b']\n",
        "def filter_list(l):\n",
        "    new_list = []\n",
        "    for x in l:\n",
        "        if type(x) == int:\n",
        "            new_list.append(x)\n",
        "    return new_list\n",
        "print(filter_list(l))"
      ],
      "execution_count": 1,
      "outputs": [
        {
          "output_type": "stream",
          "name": "stdout",
          "text": [
            "[1, 2]\n"
          ]
        }
      ]
    },
    {
      "cell_type": "markdown",
      "metadata": {
        "id": "LgzUZkWtPww7"
      },
      "source": [
        "Ques 2. The 'Reverser' takes a string as input and returns that string in reverse order, with the\n",
        "opposite case.\n",
        "Examples\n",
        "reverse('Hello World') ➞ 'DLROw OLLEh'\n",
        "reverse('ReVeRsE') ➞ 'eSrEvEr'\n",
        "reverse('Radar') ➞ 'RADAr'"
      ]
    },
    {
      "cell_type": "code",
      "metadata": {
        "colab": {
          "base_uri": "https://localhost:8080/"
        },
        "id": "9wLB9CvDPrG2",
        "outputId": "31753f3a-fe80-4cef-cc81-0d236ab839b2"
      },
      "source": [
        "def reverse(str):\n",
        "    str = str[::-1]\n",
        "    return str.swapcase()    \n",
        "print(reverse('Hello World'))\n",
        "print(reverse('ReVeRsE'))"
      ],
      "execution_count": 4,
      "outputs": [
        {
          "output_type": "stream",
          "name": "stdout",
          "text": [
            "DLROw OLLEh\n",
            "eSrEvEr\n"
          ]
        }
      ]
    },
    {
      "cell_type": "markdown",
      "metadata": {
        "id": "zIvDhSnrP4sN"
      },
      "source": [
        "Ques 3. You can assign variables from lists like this:\n",
        "lst = [1, 2, 3, 4, 5, 6]\n",
        "first = lst[0]\n",
        "middle = lst[1:-1]\n",
        "last = lst[-1]\n",
        "print(first) ➞ outputs 1\n",
        "print(middle) ➞ outputs [2, 3, 4, 5]\n",
        "print(last) ➞ outputs 6\n",
        "With Python 3, you can assign variables from lists in a much more succinct way. Create\n",
        "variables first, middle and last from the given list using destructuring assignment\n",
        "(check the Resources tab for some examples), where:\n",
        "first ➞ 1\n",
        "middle ➞ [2, 3, 4, 5]\n",
        "last ➞ 6\n",
        "\n",
        "Your task is to unpack the list writeyourcodehere into three variables, being first,\n",
        "middle, and last, with middle being everything in between the first and last element. Then\n",
        "print all three variables."
      ]
    },
    {
      "cell_type": "code",
      "metadata": {
        "colab": {
          "base_uri": "https://localhost:8080/"
        },
        "id": "luJq0XYEP1vI",
        "outputId": "5b35654f-62ad-4c1c-b64f-d6a7f9a30fb0"
      },
      "source": [
        "lst = [1, 2, 3, 4, 5, 6]\n",
        "first ,*middle,last = lst\n",
        "middle"
      ],
      "execution_count": 6,
      "outputs": [
        {
          "output_type": "execute_result",
          "data": {
            "text/plain": [
              "[2, 3, 4, 5]"
            ]
          },
          "metadata": {},
          "execution_count": 6
        }
      ]
    },
    {
      "cell_type": "code",
      "metadata": {
        "colab": {
          "base_uri": "https://localhost:8080/"
        },
        "id": "snvH5db1RLvz",
        "outputId": "418f542f-621d-4aee-8f94-c6044a27aea6"
      },
      "source": [
        "first "
      ],
      "execution_count": 7,
      "outputs": [
        {
          "output_type": "execute_result",
          "data": {
            "text/plain": [
              "1"
            ]
          },
          "metadata": {},
          "execution_count": 7
        }
      ]
    },
    {
      "cell_type": "code",
      "metadata": {
        "colab": {
          "base_uri": "https://localhost:8080/"
        },
        "id": "pcZBNZ5tRO9O",
        "outputId": "d495192f-b3b8-42d9-85ad-498403f32fc1"
      },
      "source": [
        "last"
      ],
      "execution_count": 8,
      "outputs": [
        {
          "output_type": "execute_result",
          "data": {
            "text/plain": [
              "6"
            ]
          },
          "metadata": {},
          "execution_count": 8
        }
      ]
    },
    {
      "cell_type": "markdown",
      "metadata": {
        "id": "JgW7WfXDRRk_"
      },
      "source": [
        "Ques 4. Write a function that calculates the factorial of a number recursively.\n",
        "Examples\n",
        "factorial(5) ➞ 120\n",
        "factorial(3) ➞ 6\n",
        "factorial(1) ➞ 1\n",
        "factorial(0) ➞ 1"
      ]
    },
    {
      "cell_type": "code",
      "metadata": {
        "colab": {
          "base_uri": "https://localhost:8080/"
        },
        "id": "zrvuZO5yRPvN",
        "outputId": "de7ca8b0-fde2-4c83-b3c6-cc2a20300c12"
      },
      "source": [
        "def factorial(n):     \n",
        "    if n == 0:\n",
        "        return 1    \n",
        "    return n * factorial(n-1)\n",
        "num = int(input('enter a number :'))\n",
        "print(\"Factorial of\", num, \"is\", factorial(num))"
      ],
      "execution_count": 9,
      "outputs": [
        {
          "output_type": "stream",
          "name": "stdout",
          "text": [
            "enter a number :5\n",
            "Factorial of 5 is 120\n"
          ]
        }
      ]
    },
    {
      "cell_type": "markdown",
      "metadata": {
        "id": "MeqeodtuRY70"
      },
      "source": [
        "Ques 5. Write a function that moves all elements of one type to the end of the list.\n",
        "Examples\n",
        "move_to_end([1, 3, 2, 4, 4, 1], 1) ➞ [3, 2, 4, 4, 1, 1]\n",
        "Move all the 1s to the end of the array.\n",
        "move_to_end([7, 8, 9, 1, 2, 3, 4], 9) ➞ [7, 8, 1, 2, 3, 4, 9]\n",
        "move_to_end(['a', 'a', 'a', 'b'], 'a') ➞ ['b', 'a', 'a', 'a']\n"
      ]
    },
    {
      "cell_type": "code",
      "metadata": {
        "id": "HG5gbZrARUGO"
      },
      "source": [
        "def move_to_end(array, toMove):     \n",
        "    i = 0\n",
        "    j = len(array) - 1\n",
        "    while (i < j):\n",
        "        while (i < j and array[j] == toMove):\n",
        "            j-=1\n",
        "        if (array[i] == toMove):\n",
        "            array[i], array[j] = array[j] , array[i]\n",
        "        i += 1\n",
        "    return array"
      ],
      "execution_count": 10,
      "outputs": []
    },
    {
      "cell_type": "code",
      "metadata": {
        "colab": {
          "base_uri": "https://localhost:8080/"
        },
        "id": "B5ND6Ky4RkZs",
        "outputId": "1a2e3d98-c307-4435-9b96-7cb3302ecf7b"
      },
      "source": [
        "arr = [7, 8, 9, 1, 2, 3, 4]\n",
        "a = 9\n",
        "ans = move_to_end(arr, a)\n",
        "for i in range(len(arr)):\n",
        "    print(ans[i] ,end= \" \")"
      ],
      "execution_count": 11,
      "outputs": [
        {
          "output_type": "stream",
          "name": "stdout",
          "text": [
            "7 8 4 1 2 3 9 "
          ]
        }
      ]
    },
    {
      "cell_type": "code",
      "metadata": {
        "colab": {
          "base_uri": "https://localhost:8080/"
        },
        "id": "x0QUrLSZRv56",
        "outputId": "b567f8bd-daac-43c9-877d-ae0cf25cc72c"
      },
      "source": [
        "arr = ['a', 'a', 'a', 'b']\n",
        "k = 'a'\n",
        "ans = move_to_end(arr, k)\n",
        "for i in range(len(arr)):\n",
        "    print(ans[i] ,end= \" \")"
      ],
      "execution_count": 12,
      "outputs": [
        {
          "output_type": "stream",
          "name": "stdout",
          "text": [
            "b a a a "
          ]
        }
      ]
    }
  ]
}