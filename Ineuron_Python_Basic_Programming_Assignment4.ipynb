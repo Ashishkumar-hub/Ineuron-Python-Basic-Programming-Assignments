{
  "nbformat": 4,
  "nbformat_minor": 0,
  "metadata": {
    "colab": {
      "name": "Ineuron_Python_Basic_Programming_Assignment4",
      "provenance": []
    },
    "kernelspec": {
      "name": "python3",
      "display_name": "Python 3"
    },
    "language_info": {
      "name": "python"
    }
  },
  "cells": [
    {
      "cell_type": "markdown",
      "source": [
        "**Ineuron Python Basic Programming Assignment 4**"
      ],
      "metadata": {
        "id": "vKmD0tKTtMde"
      }
    },
    {
      "cell_type": "markdown",
      "source": [
        "1. Write a Python Program to Find the Factorial of a Number?"
      ],
      "metadata": {
        "id": "HKStddGAtMLM"
      }
    },
    {
      "cell_type": "code",
      "source": [
        "x = int(input(\"Enter a Number \"))\n",
        "factorial = 1\n",
        "if x < 0:\n",
        "    print(\"Can not calculate Factorial of a negative number\")\n",
        "elif x == 0:\n",
        "    print(\"Factorial of zero is 1\")\n",
        "else:\n",
        "    for i in range(1,x+1):\n",
        "        factorial = factorial * i\n",
        "print(\"Factorial of {} is {}\".format(x, factorial))"
      ],
      "metadata": {
        "colab": {
          "base_uri": "https://localhost:8080/"
        },
        "id": "zYq2wMNAtmFl",
        "outputId": "64b2958f-08b5-436a-b75c-e95686bbbc83"
      },
      "execution_count": 1,
      "outputs": [
        {
          "output_type": "stream",
          "name": "stdout",
          "text": [
            "Enter a Number 3\n",
            "Factorial of 3 is 6\n"
          ]
        }
      ]
    },
    {
      "cell_type": "markdown",
      "source": [
        "\n",
        "2. Write a Python Program to Display the multiplication Table?"
      ],
      "metadata": {
        "id": "z6svYqTOtfiZ"
      }
    },
    {
      "cell_type": "code",
      "source": [
        "x = int(input(\"Enter the number for which you want to find the table:\"))\n",
        "for i in range(1,11):\n",
        "    print(\"{} x {} = {}\".format(x , i , x*i))"
      ],
      "metadata": {
        "colab": {
          "base_uri": "https://localhost:8080/"
        },
        "id": "F3Pen3JGurEF",
        "outputId": "8c78a100-4138-4617-bb7b-ecdb46ea241e"
      },
      "execution_count": 8,
      "outputs": [
        {
          "output_type": "stream",
          "name": "stdout",
          "text": [
            "Enter the number for which you want to find the table:3\n",
            "3 x 1 = 3\n",
            "3 x 2 = 6\n",
            "3 x 3 = 9\n",
            "3 x 4 = 12\n",
            "3 x 5 = 15\n",
            "3 x 6 = 18\n",
            "3 x 7 = 21\n",
            "3 x 8 = 24\n",
            "3 x 9 = 27\n",
            "3 x 10 = 30\n"
          ]
        }
      ]
    },
    {
      "cell_type": "markdown",
      "source": [
        "\n",
        "3. Write a Python Program to Print the Fibonacci sequence?"
      ],
      "metadata": {
        "id": "9qrc4Dsctg_y"
      }
    },
    {
      "cell_type": "code",
      "source": [
        "#sum of pervious two  numbers is equal to next number 0,1,1,2,3,5,...\n",
        "def genfib(n):\n",
        "    a =1\n",
        "    b= 1\n",
        "    l =[]\n",
        "    for i in range(n):\n",
        "        l.append(a)\n",
        "        a , b = b , a+b\n",
        "    return l  \n",
        "genfib(6)"
      ],
      "metadata": {
        "colab": {
          "base_uri": "https://localhost:8080/"
        },
        "id": "E818IVEcvli1",
        "outputId": "39611d37-9951-475b-9673-676738d469af"
      },
      "execution_count": 9,
      "outputs": [
        {
          "output_type": "execute_result",
          "data": {
            "text/plain": [
              "[1, 1, 2, 3, 5, 8]"
            ]
          },
          "metadata": {},
          "execution_count": 9
        }
      ]
    },
    {
      "cell_type": "markdown",
      "source": [
        "\n",
        "4. Write a Python Program to Check Armstrong Number?"
      ],
      "metadata": {
        "id": "odFIkhHltiIH"
      }
    },
    {
      "cell_type": "code",
      "source": [
        "#a number such that the sum ! of its digits raised to the third power is equal to the number ! itself. 153 1^3 + 5^3 + 3^3 = 153\n",
        "x = int(input(\"Enter the number : \"))\n",
        "power = len(str(x))\n",
        "y = x\n",
        "sum = 0\n",
        "while y > 0:\n",
        "    digit = y % 10\n",
        "    sum = sum + digit ** power\n",
        "    y = y//10\n",
        "if x == sum :\n",
        "    print(\"Number is armstrong number\")\n",
        "else:\n",
        "    print(\"Not an armstrong number\")\n"
      ],
      "metadata": {
        "colab": {
          "base_uri": "https://localhost:8080/"
        },
        "id": "j0h54nHXwZhp",
        "outputId": "3ee7d923-77bf-41b9-e0f1-c1b765c976cf"
      },
      "execution_count": 10,
      "outputs": [
        {
          "output_type": "stream",
          "name": "stdout",
          "text": [
            "Enter the number : 1234\n",
            "Not an armstrong number\n"
          ]
        }
      ]
    },
    {
      "cell_type": "markdown",
      "source": [
        "\n",
        "5. Write a Python Program to Find Armstrong Number in an Interval?\n"
      ],
      "metadata": {
        "id": "s7mCa3VJtjSo"
      }
    },
    {
      "cell_type": "code",
      "source": [
        "x = int(input(\"Low no : \"))\n",
        "y = int(input(\"Up no : \"))\n",
        "for i in range(x,y+1):\n",
        "    power = len(str(i))\n",
        "    temp = i\n",
        "    sum = 0\n",
        "    while temp > 0:\n",
        "        digit = temp % 10\n",
        "        sum = sum + digit ** power\n",
        "        temp = temp//10\n",
        "    if i == sum :\n",
        "        print(i)"
      ],
      "metadata": {
        "colab": {
          "base_uri": "https://localhost:8080/"
        },
        "id": "yGJc1DD1zS5U",
        "outputId": "50639e63-7642-4f89-8494-5bba8a7adee7"
      },
      "execution_count": 13,
      "outputs": [
        {
          "output_type": "stream",
          "name": "stdout",
          "text": [
            "Low no : 100\n",
            "Up no : 10000\n",
            "153\n",
            "370\n",
            "371\n",
            "407\n",
            "1634\n",
            "8208\n",
            "9474\n"
          ]
        }
      ]
    },
    {
      "cell_type": "markdown",
      "source": [
        "6. Write a Python Program to Find the Sum of Natural Numbers?"
      ],
      "metadata": {
        "id": "c0IQ17ljtkzX"
      }
    },
    {
      "cell_type": "code",
      "source": [
        "x = int(input(\"enter the number : \"))\n",
        "sum = 0\n",
        "for i in range(0,x+1):\n",
        "    sum+=i\n",
        "print(\"Sum of natural numbers upto {} is {}\".format(x,sum))"
      ],
      "metadata": {
        "colab": {
          "base_uri": "https://localhost:8080/"
        },
        "id": "-tyfjlfQzQrF",
        "outputId": "f49507f6-029c-437e-f095-aece6691b3e5"
      },
      "execution_count": 11,
      "outputs": [
        {
          "output_type": "stream",
          "name": "stdout",
          "text": [
            "enter the number : 5\n",
            "Sum of natural numbers upto 5 is 15\n"
          ]
        }
      ]
    }
  ]
}