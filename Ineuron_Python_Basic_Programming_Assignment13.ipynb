{
  "nbformat": 4,
  "nbformat_minor": 0,
  "metadata": {
    "colab": {
      "name": "Ineuron_Python_Basic_Programming_Assignment13.ipynb",
      "provenance": []
    },
    "kernelspec": {
      "name": "python3",
      "display_name": "Python 3"
    },
    "language_info": {
      "name": "python"
    }
  },
  "cells": [
    {
      "cell_type": "markdown",
      "metadata": {
        "id": "ZCw5g2gZdi9v"
      },
      "source": [
        "**Ineuron Python Basic Programming Assignment 13**"
      ]
    },
    {
      "cell_type": "markdown",
      "metadata": {
        "id": "U1PNZGRdd-5W"
      },
      "source": [
        "Question 1:\n",
        "Write a program that calculates and prints the value according to the given formula:\n",
        "    Q = Square root of [(2 * C * D)/H]\n",
        "    Following are the fixed values of C and H:\n",
        "    C is 50. H is 30.\n",
        "    D is the variable whose values should be input to your program in a comma-separated\n",
        "    sequence.\n",
        "    Example\n",
        "    Let us assume the following comma separated input sequence is given to the program:\n",
        "    100,150,180\n",
        "    The output of the program should be:\n",
        "    18,22,24"
      ]
    },
    {
      "cell_type": "code",
      "metadata": {
        "colab": {
          "base_uri": "https://localhost:8080/"
        },
        "id": "ZH4lEWIUdU9E",
        "outputId": "5fe3a378-02f5-48dd-8133-1f9d56b1dc75"
      },
      "source": [
        "import math\n",
        "values = input(\"Provide D in with comma separated: \")\n",
        "values = values.split(',')\n",
        "final = []\n",
        "for D in values:\n",
        "    Q = round(math.sqrt(2 * 50 * int(D) / 30))\n",
        "    final.append(str(Q))    \n",
        "print(','.join(final))"
      ],
      "execution_count": 3,
      "outputs": [
        {
          "output_type": "stream",
          "name": "stdout",
          "text": [
            "Provide D in with comma separated: 100,150,180\n",
            "18,22,24\n"
          ]
        }
      ]
    },
    {
      "cell_type": "markdown",
      "metadata": {
        "id": "dUCh0fJ9gJZp"
      },
      "source": [
        "Question 2: Write a program which takes 2 digits, X,Y as input and generates a 2-dimensional array. The\n",
        "element value in the i-th row and j-th column of the array should be i*j.\n",
        "Note: i=0,1.., X-1; j=0,1,¡Y-1.\n",
        "Example\n",
        "Suppose the following inputs are given to the program:\n",
        "3,5\n",
        "Then, the output of the program should be:\n",
        "[[0, 0, 0, 0, 0], [0, 1, 2, 3, 4], [0, 2, 4, 6, 8]]"
      ]
    },
    {
      "cell_type": "code",
      "metadata": {
        "colab": {
          "base_uri": "https://localhost:8080/"
        },
        "id": "dmDhpYo3eHze",
        "outputId": "9e232077-b2cc-4323-d9be-213b2b606d6d"
      },
      "source": [
        "def ABC(n,m):    \n",
        "    A=[]             \n",
        "    print(\"Enter the element :\")\n",
        "    for i in range(n):\n",
        "        row =[]\n",
        "        for j in range(m):\n",
        "            row.append(i*j)\n",
        "        A.append(row)\n",
        "    return(A)\n",
        "x = int(input(\"Enter x : \"))\n",
        "y = int(input(\"enter y : \"))\n",
        "ABC(x,y)"
      ],
      "execution_count": 4,
      "outputs": [
        {
          "output_type": "stream",
          "name": "stdout",
          "text": [
            "Enter x : 3\n",
            "enter y : 5\n",
            "Enter the element :\n"
          ]
        },
        {
          "output_type": "execute_result",
          "data": {
            "text/plain": [
              "[[0, 0, 0, 0, 0], [0, 1, 2, 3, 4], [0, 2, 4, 6, 8]]"
            ]
          },
          "metadata": {},
          "execution_count": 4
        }
      ]
    },
    {
      "cell_type": "markdown",
      "metadata": {
        "id": "FVSTZ18QggI_"
      },
      "source": [
        "Question 3. Write a program that accepts a comma separated sequence of words as input and prints the\n",
        "words in a comma-separated sequence after sorting them alphabetically.\n",
        "Suppose the following input is supplied to the program:\n",
        "without,hello,bag,world\n",
        "Then, the output should be:\n",
        "bag,hello,without,world"
      ]
    },
    {
      "cell_type": "code",
      "metadata": {
        "colab": {
          "base_uri": "https://localhost:8080/"
        },
        "id": "Plj1h4pxgaLQ",
        "outputId": "33207025-f7f9-48fd-bc6a-cf9db5d94978"
      },
      "source": [
        "words=[x for x in input('Enter comma seperated words ').split(',')]\n",
        "print(\"Seperted sequence\",words)\n",
        "words.sort()    \n",
        "print(','.join(words))"
      ],
      "execution_count": 8,
      "outputs": [
        {
          "output_type": "stream",
          "name": "stdout",
          "text": [
            "Enter comma seperated words my,name,is,ashish\n",
            "Seperted sequence ['my', 'name', 'is', 'ashish']\n",
            "ashish,is,my,name\n"
          ]
        }
      ]
    },
    {
      "cell_type": "markdown",
      "metadata": {
        "id": "CSBog2zYg6IN"
      },
      "source": [
        "Question 4: Write a program that accepts a sequence of whitespace separated words as input and prints\n",
        "the words after removing all duplicate words and sorting them alphanumerically.\n",
        "Suppose the following input is supplied to the program:\n",
        "hello world and practice makes perfect and hello world again\n",
        "Then, the output should be:\n",
        "again and hello makes perfect practice world"
      ]
    },
    {
      "cell_type": "code",
      "metadata": {
        "colab": {
          "base_uri": "https://localhost:8080/"
        },
        "id": "GL7b0DjMgz27",
        "outputId": "14d77675-b28d-4dfe-ed7f-5797da5b666a"
      },
      "source": [
        "words=[x for x in input('Enter space sepeated words ').split(' ')]\n",
        "print(' '.join(sorted(list(set(words)))))"
      ],
      "execution_count": 9,
      "outputs": [
        {
          "output_type": "stream",
          "name": "stdout",
          "text": [
            "Enter space sepeated words hello world practice makes perfect\n",
            "hello makes perfect practice world\n"
          ]
        }
      ]
    },
    {
      "cell_type": "markdown",
      "metadata": {
        "id": "EFbEANobmh1p"
      },
      "source": [
        "Question 5: Write a program that accepts a sentence and calculate the number of letters and digits.\n",
        "Suppose the following input is supplied to the program:\n",
        "hello world! 123\n",
        "Then, the output should be:\n",
        "LETTERS 10\n",
        "DIGITS 3"
      ]
    },
    {
      "cell_type": "code",
      "metadata": {
        "colab": {
          "base_uri": "https://localhost:8080/"
        },
        "id": "526alPUfmVtj",
        "outputId": "d71835e4-fb62-4381-d051-2fb752917f73"
      },
      "source": [
        "a = input(\"Input a string : \")\n",
        "digits=letters=0\n",
        "for i in a:\n",
        "    if i.isdigit():\n",
        "        digits += 1\n",
        "    elif i.isalpha():\n",
        "        letters += 1\n",
        "    else:\n",
        "        pass\n",
        "print(\"Letters\", letters)\n",
        "print(\"Digits\", digits)"
      ],
      "execution_count": 10,
      "outputs": [
        {
          "output_type": "stream",
          "name": "stdout",
          "text": [
            "Input a string : hello world! 123\n",
            "Letters 10\n",
            "Digits 3\n"
          ]
        }
      ]
    },
    {
      "cell_type": "markdown",
      "metadata": {
        "id": "16WyBOXUm-ef"
      },
      "source": [
        "Question 6: A website requires the users to input username and password to register. Write a program to\n",
        "check the validity of password input by users.\n",
        "Following are the criteria for checking the password:\n",
        "1. At least 1 letter between [a-z]\n",
        "2. At least 1 number between [0-9]\n",
        "1. At least 1 letter between [A-Z]\n",
        "3. At least 1 character from [$#@]\n",
        "4. Minimum length of transaction password: 6\n",
        "5. Maximum length of transaction password: 12\n",
        "Your program should accept a sequence of comma separated passwords and will check them\n",
        "according to the above criteria. Passwords that match the criteria are to be printed, each\n",
        "separated by a comma.\n",
        "Example\n",
        "If the following passwords are given as input to the program:\n",
        "ABd1234@1,a F1#,2w3E*,2We3345\n",
        "Then, the output of the program should be:\n",
        "ABd1234@1"
      ]
    },
    {
      "cell_type": "code",
      "metadata": {
        "colab": {
          "base_uri": "https://localhost:8080/"
        },
        "id": "uo0btxeAmqsE",
        "outputId": "97cdbabe-332f-498e-d9dd-073740d6798f"
      },
      "source": [
        "import re\n",
        "password= input(\"Enter your password : \")\n",
        "x = True\n",
        "while x:  \n",
        "    if (len(password) < 6 or len(password) > 12):\n",
        "        break\n",
        "    elif not re.search(\"[a-z]\",password):\n",
        "        break\n",
        "    elif not re.search(\"[0-9]\",password):\n",
        "        break\n",
        "    elif not re.search(\"[A-Z]\",password):\n",
        "        break\n",
        "    elif not re.search(\"[$#@]\",password):\n",
        "        break\n",
        "    elif re.search(\"\\s\",password):\n",
        "        break\n",
        "    else:\n",
        "        print(\"Valid Password\")\n",
        "        x=False\n",
        "        break\n",
        "if x:\n",
        "    print(\"Not a Valid Password\")"
      ],
      "execution_count": 11,
      "outputs": [
        {
          "output_type": "stream",
          "name": "stdout",
          "text": [
            "Enter your password : ABd1234@1\n",
            "Valid Password\n"
          ]
        }
      ]
    }
  ]
}