{
  "nbformat": 4,
  "nbformat_minor": 0,
  "metadata": {
    "colab": {
      "name": "Ineuron_Python_Basic_Programming_Assignment5.ipynb",
      "provenance": []
    },
    "kernelspec": {
      "name": "python3",
      "display_name": "Python 3"
    },
    "language_info": {
      "name": "python"
    }
  },
  "cells": [
    {
      "cell_type": "markdown",
      "source": [
        "**Ineuron Python Basic Programming Assignment 5**"
      ],
      "metadata": {
        "id": "oBFR3S-A2Zjk"
      }
    },
    {
      "cell_type": "markdown",
      "source": [
        "1. Write a Python Program to Find LCM?\n"
      ],
      "metadata": {
        "id": "Ty38ZTl32ZcX"
      }
    },
    {
      "cell_type": "code",
      "source": [
        "x = int(input(\"Enter num1 : \"))\n",
        "y = int(input(\"Enter num2 : \"))\n",
        "\n",
        "# big no.\n",
        "if x > y:\n",
        "    big = x\n",
        "else:\n",
        "    big = y\n",
        "    \n",
        "while(True):\n",
        "    if big % x == 0 and big % y == 0 :\n",
        "        lcm = big\n",
        "        break\n",
        "    big+=1\n",
        "    \n",
        "print(\"The LCM of {} and {} is {}\".format(x,y,lcm))"
      ],
      "metadata": {
        "colab": {
          "base_uri": "https://localhost:8080/"
        },
        "id": "6XMcBsK-2p1R",
        "outputId": "5b95142e-a9ac-4938-f8bf-69be608e59d3"
      },
      "execution_count": 1,
      "outputs": [
        {
          "output_type": "stream",
          "name": "stdout",
          "text": [
            "Enter num1 : 4\n",
            "Enter num2 : 5\n",
            "The LCM of 4 and 5 is 20\n"
          ]
        }
      ]
    },
    {
      "cell_type": "markdown",
      "source": [
        "2. Write a Python Program to Find HCF?\n"
      ],
      "metadata": {
        "id": "DbyChBJH2i91"
      }
    },
    {
      "cell_type": "code",
      "source": [
        "x = int(input(\"Enter num1 : \"))\n",
        "y = int(input(\"Enter num2 : \"))\n",
        "\n",
        "# big no\n",
        "if x < y:\n",
        "    small = x\n",
        "else:\n",
        "    small = y\n",
        "hcf = 0   \n",
        "for i in range(1,small+1):\n",
        "    if x % i == 0 and y % i == 0 :\n",
        "        hcf = i\n",
        "    \n",
        "print(\"The hcf of {} and {} is {}\".format(x,y,hcf))"
      ],
      "metadata": {
        "colab": {
          "base_uri": "https://localhost:8080/"
        },
        "id": "XVfbiAGr255w",
        "outputId": "81cbe3fa-6e79-418f-a5d5-bd6d32cd6f47"
      },
      "execution_count": 2,
      "outputs": [
        {
          "output_type": "stream",
          "name": "stdout",
          "text": [
            "Enter num1 : 4\n",
            "Enter num2 : 5\n",
            "The hcf of 4 and 5 is 1\n"
          ]
        }
      ]
    },
    {
      "cell_type": "markdown",
      "source": [
        "3. Write a Python Program to Convert Decimal to Binary, Octal and Hexadecimal?\n"
      ],
      "metadata": {
        "id": "rER8dqN_2k1W"
      }
    },
    {
      "cell_type": "code",
      "source": [
        "x=int(input(\"Enter number :\"))\n",
        "\n",
        "print(x, \"in binary : \", bin(x))\n",
        "print(x, \"in Octal : \", oct(x))\n",
        "print(x, \"in Hexadecimal : \",hex(x))"
      ],
      "metadata": {
        "colab": {
          "base_uri": "https://localhost:8080/"
        },
        "id": "O60_z3ML3CsX",
        "outputId": "f0c95db1-6a8b-43ff-aa88-352fd302fb28"
      },
      "execution_count": 4,
      "outputs": [
        {
          "output_type": "stream",
          "name": "stdout",
          "text": [
            "Enter number :55\n",
            "55 in binary :  0b110111\n",
            "55 in Octal :  0o67\n",
            "55 in Hexadecimal :  0x37\n"
          ]
        }
      ]
    },
    {
      "cell_type": "markdown",
      "source": [
        "4. Write a Python Program To Find ASCII value of a character?\n"
      ],
      "metadata": {
        "id": "waoHUelJ2mfm"
      }
    },
    {
      "cell_type": "code",
      "source": [
        "str = input(\"Enter a Charecter : \")\n",
        "# ord gives the ASCII value of a character\n",
        "print(\"Ascii value of {} is {}\".format(str,ord(str)))"
      ],
      "metadata": {
        "colab": {
          "base_uri": "https://localhost:8080/"
        },
        "id": "SkCNhJ7I3Ll_",
        "outputId": "75cd2b85-2cef-4568-c35b-3311e178d3d1"
      },
      "execution_count": 7,
      "outputs": [
        {
          "output_type": "stream",
          "name": "stdout",
          "text": [
            "Enter a Charecter : A\n",
            "Ascii value of A is 65\n"
          ]
        }
      ]
    },
    {
      "cell_type": "markdown",
      "source": [
        "5. Write a Python Program to Make a Simple Calculator with 4 basic mathematical operations?"
      ],
      "metadata": {
        "id": "777O1kRm2oSv"
      }
    },
    {
      "cell_type": "code",
      "execution_count": 8,
      "metadata": {
        "colab": {
          "base_uri": "https://localhost:8080/"
        },
        "id": "Y9AQn3oH2WVI",
        "outputId": "57a3bf16-9ec4-4279-e6b7-f680ae5a10b8"
      },
      "outputs": [
        {
          "output_type": "stream",
          "name": "stdout",
          "text": [
            "Enter num1 :3\n",
            "Enter num2 :4\n",
            "Enter + to add : \n",
            "Enter - to Sub :\n",
            "Enter * to multi :\n",
            "Enter / to div : *\n",
            "3.0 * 4.0 = 12.0\n"
          ]
        }
      ],
      "source": [
        "x = float(input(\"Enter num1 :\"))\n",
        "y = float(input(\"Enter num2 :\"))\n",
        "op = input(\"Enter + to add : \\nEnter - to Sub :\\nEnter * to multi :\\nEnter / to div : \") \n",
        "add = x + y\n",
        "sub = x - y\n",
        "mul = x * y\n",
        "if op == \"+\":\n",
        "    print(\"{} + {} = {}\".format(x,y,add))\n",
        "elif op == \"-\":\n",
        "    print(\"{} - {} = {}\".format(x,y,sub))\n",
        "elif op == \"*\":\n",
        "    print(\"{} * {} = {}\".format(x,y,mul))\n",
        "elif op == \"/\":\n",
        "    if num1 == 0 or num2 == 0:\n",
        "        print(\"Division with zero is not possible\")\n",
        "    else:\n",
        "        div = x / y\n",
        "        print(\"{} / {} = {}\".format(x,y,div))\n",
        "else:\n",
        "    print(\"Invalid input\")"
      ]
    }
  ]
}