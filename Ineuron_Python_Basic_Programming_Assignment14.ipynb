{
  "nbformat": 4,
  "nbformat_minor": 0,
  "metadata": {
    "colab": {
      "name": "Ineuron_Python_Basic_Programming_Assignment14.ipynb",
      "provenance": []
    },
    "kernelspec": {
      "name": "python3",
      "display_name": "Python 3"
    },
    "language_info": {
      "name": "python"
    }
  },
  "cells": [
    {
      "cell_type": "markdown",
      "metadata": {
        "id": "811JY4p7dUvT"
      },
      "source": [
        "**Ineuron Python Basic Programming Assignment 14**"
      ]
    },
    {
      "cell_type": "markdown",
      "metadata": {
        "id": "btY9oIzydXIB"
      },
      "source": [
        "Ques 1. Define a class with a generator which can iterate the numbers, which are divisible by\n",
        "7, between a given range 0 and n."
      ]
    },
    {
      "cell_type": "code",
      "metadata": {
        "colab": {
          "base_uri": "https://localhost:8080/"
        },
        "id": "P9oJyp2xdFJa",
        "outputId": "15436751-ff65-40a7-807c-17c8cd50e7aa"
      },
      "source": [
        "class ashu: \n",
        "  def gen(n):\n",
        "    for i in range(0,n):\n",
        "      if i%7==0:\n",
        "        print(i)\n",
        "n = int(input('enter n : '))\n",
        "ashu.gen(n)     "
      ],
      "execution_count": 2,
      "outputs": [
        {
          "output_type": "stream",
          "name": "stdout",
          "text": [
            "enter n : 55\n",
            "0\n",
            "7\n",
            "14\n",
            "21\n",
            "28\n",
            "35\n",
            "42\n",
            "49\n"
          ]
        }
      ]
    },
    {
      "cell_type": "markdown",
      "metadata": {
        "id": "lmveWuKQfQY3"
      },
      "source": [
        "Ques 2. Write a program to compute the frequency of the words from the input. The output\n",
        "should output after sorting the key alphanumerically.\n",
        "Suppose the following input is supplied to the program:\n",
        "New to Python or choosing between Python 2 and Python 3? Read Python 2 or\n",
        "Python 3.\n",
        "Then, the output should be:\n",
        "2:2\n",
        "3.:1\n",
        "3?:1\n",
        "New:1\n",
        "Python:5\n",
        "Read:1\n",
        "and:1\n",
        "between:1\n",
        "choosing:1\n",
        "or:2\n",
        "to:1"
      ]
    },
    {
      "cell_type": "code",
      "metadata": {
        "colab": {
          "base_uri": "https://localhost:8080/"
        },
        "id": "St4jAsojeNzD",
        "outputId": "1ff5640c-e30e-4d0c-8c8c-7c0777d86587"
      },
      "source": [
        "Sentence = input('Enter the sentence: ').split()\n",
        "word = sorted(set(Sentence))   \n",
        "for i in word:\n",
        "    print(\"{0}:{1}\".format(i,Sentence.count(i)))"
      ],
      "execution_count": 3,
      "outputs": [
        {
          "output_type": "stream",
          "name": "stdout",
          "text": [
            "Enter the sentence: New to Python or choosing between Python 2 and Python 3? Read Python 2 or Python 3\n",
            "2:2\n",
            "3:1\n",
            "3?:1\n",
            "New:1\n",
            "Python:5\n",
            "Read:1\n",
            "and:1\n",
            "between:1\n",
            "choosing:1\n",
            "or:2\n",
            "to:1\n"
          ]
        }
      ]
    },
    {
      "cell_type": "markdown",
      "metadata": {
        "id": "bGeAkPwLg5V4"
      },
      "source": [
        "Ques 3. Define a class Person and its two child classes: Male and Female. All classes have a\n",
        "method 'getGender' which can print 'Male' for Male class and 'Female' for Female class."
      ]
    },
    {
      "cell_type": "code",
      "metadata": {
        "colab": {
          "base_uri": "https://localhost:8080/"
        },
        "id": "71-RFiN2eTGS",
        "outputId": "519e3666-bbb3-4316-b8de-b7bf0c44cd8b"
      },
      "source": [
        "class Person(object):\n",
        "    def getGender( self ):\n",
        "        return \"None\"\n",
        "class Male( Person ):\n",
        "    def getGender( self ):\n",
        "        return \"Male\"\n",
        "class Female( Person ):\n",
        "    def getGender( self ):\n",
        "        return \"Female\"\n",
        "\n",
        "ob_male = Male()\n",
        "ob_female= Female()\n",
        "print(ob_male.getGender())\n",
        "print(ob_female.getGender())"
      ],
      "execution_count": 4,
      "outputs": [
        {
          "output_type": "stream",
          "name": "stdout",
          "text": [
            "Male\n",
            "Female\n"
          ]
        }
      ]
    },
    {
      "cell_type": "markdown",
      "metadata": {
        "id": "nEuZlf5ZhWBj"
      },
      "source": [
        "Ques 4. Please write a program to generate all sentences where subject is in [\"I\", \"You\"] and verb is in ['Play', \"Love\"] and the object is in [\"Hockey\",\"Football\"]"
      ]
    },
    {
      "cell_type": "code",
      "metadata": {
        "colab": {
          "base_uri": "https://localhost:8080/"
        },
        "id": "zz3wgq4Nf3yC",
        "outputId": "9ad527fe-aaee-42aa-8b6e-3b2ed362ba26"
      },
      "source": [
        "def generate_sentences(subjects,verbs,objects):\n",
        "\tlist=[]\n",
        "\tfor i in subjects:\n",
        "\t    for j in verbs:\n",
        "\t        for k in objects:\n",
        "\t            list.append(i+\" \"+j+\" \"+k)\n",
        "\treturn list \n",
        "subjects=[\"I\",\"You\"]\n",
        "verbs=[\"love\", \"play\"]\n",
        "objects=[\"Hockey\",\"Football\"]\n",
        "print(generate_sentences(subjects,verbs,objects))\n"
      ],
      "execution_count": 9,
      "outputs": [
        {
          "output_type": "stream",
          "name": "stdout",
          "text": [
            "['I love Hockey', 'I love Football', 'I play Hockey', 'I play Football', 'You love Hockey', 'You love Football', 'You play Hockey', 'You play Football']\n"
          ]
        }
      ]
    },
    {
      "cell_type": "markdown",
      "metadata": {
        "id": "KqDiMAGih0Cp"
      },
      "source": [
        "Ques 5. Please write a program to compress and decompress the string \"hello world!hello\n",
        "world!hello world!hello world!\""
      ]
    },
    {
      "cell_type": "code",
      "metadata": {
        "colab": {
          "base_uri": "https://localhost:8080/"
        },
        "id": "-g-zhrG_hsKf",
        "outputId": "b546e332-cabf-41a8-ae30-96d1ecbb4d3a"
      },
      "source": [
        "import zlib\n",
        "str = 'hello world!hello world!hello world!hello world!'\n",
        "a = bytes(str, 'utf-8')\n",
        "b = zlib.compress(a)\n",
        "print(b)\n",
        "print(zlib.decompress(b))"
      ],
      "execution_count": 10,
      "outputs": [
        {
          "output_type": "stream",
          "name": "stdout",
          "text": [
            "b'x\\x9c\\xcbH\\xcd\\xc9\\xc9W(\\xcf/\\xcaIQ\\xcc \\x82\\r\\x00\\xbd[\\x11\\xf5'\n",
            "b'hello world!hello world!hello world!hello world!'\n"
          ]
        }
      ]
    },
    {
      "cell_type": "markdown",
      "metadata": {
        "id": "JrsdJvaniQTx"
      },
      "source": [
        "Ques 6. Please write a binary search function which searches an item in a sorted list. The\n",
        "function should return the index of element to be searched in the list."
      ]
    },
    {
      "cell_type": "code",
      "metadata": {
        "colab": {
          "base_uri": "https://localhost:8080/"
        },
        "id": "uGWUbDzxiA0y",
        "outputId": "b46b472e-4e53-4906-9b03-f2a424f464f5"
      },
      "source": [
        "from bisect import bisect_left\n",
        "def BinarySearch(a, x):\n",
        "    i = bisect_left(a, x)\n",
        "    if i != len(a) and a[i] == x:\n",
        "        return i\n",
        "    else:\n",
        "        return -1 \n",
        "a = [1, 2, 4, 4, 8, 8]\n",
        "x = int(4)\n",
        "res = BinarySearch(a, x)\n",
        "if res == -1:\n",
        "    print(x, \"is absent\")\n",
        "else:\n",
        "    print(\"First occurrence of\", x, \"is present at\", res)"
      ],
      "execution_count": 19,
      "outputs": [
        {
          "output_type": "stream",
          "name": "stdout",
          "text": [
            "First occurrence of 4 is present at 2\n"
          ]
        }
      ]
    }
  ]
}