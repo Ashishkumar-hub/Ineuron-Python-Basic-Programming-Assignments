{
  "nbformat": 4,
  "nbformat_minor": 0,
  "metadata": {
    "colab": {
      "name": "Ineuron_Python_Basic_Programming_Assignment8.ipynb",
      "provenance": []
    },
    "kernelspec": {
      "name": "python3",
      "display_name": "Python 3"
    },
    "language_info": {
      "name": "python"
    }
  },
  "cells": [
    {
      "cell_type": "markdown",
      "source": [
        "**Ineuron Python Basic Programming Assignment 8**"
      ],
      "metadata": {
        "id": "StdO4rFZSpbD"
      }
    },
    {
      "cell_type": "markdown",
      "source": [
        "1. Write a Python Program to Add Two Matrices?\n"
      ],
      "metadata": {
        "id": "l3DI-HjmVrcX"
      }
    },
    {
      "cell_type": "code",
      "source": [
        "import numpy as np\n",
        "mat1 = np.array([[1,2,3],\n",
        "        [4,5,6],\n",
        "        [7,8,8]])\n",
        "mat2 = np.array([[1,2,3],\n",
        "        [4,5,6],\n",
        "        [7,8,9]])\n",
        "Matsum = np.add(mat1,mat2)\n",
        "print(\"The Sum of two matrix \\n\\n{}  and \\n\\n{}  is \\n\\n{} \".format(mat1,mat2,Matsum))"
      ],
      "metadata": {
        "colab": {
          "base_uri": "https://localhost:8080/"
        },
        "id": "RblvWrMaVyzP",
        "outputId": "07b23bc2-5306-40c8-e618-c8c5e62e142d"
      },
      "execution_count": 2,
      "outputs": [
        {
          "output_type": "stream",
          "name": "stdout",
          "text": [
            "The Sum of two matrix \n",
            "\n",
            "[[1 2 3]\n",
            " [4 5 6]\n",
            " [7 8 8]]  and \n",
            "\n",
            "[[1 2 3]\n",
            " [4 5 6]\n",
            " [7 8 9]]  is \n",
            "\n",
            "[[ 2  4  6]\n",
            " [ 8 10 12]\n",
            " [14 16 17]] \n"
          ]
        }
      ]
    },
    {
      "cell_type": "markdown",
      "source": [
        "2. Write a Python Program to Multiply Two Matrices?"
      ],
      "metadata": {
        "id": "b_d5IykMVrY1"
      }
    },
    {
      "cell_type": "code",
      "source": [
        "import numpy as np\n",
        "mat1 = np.array([[1,2,3],\n",
        "        [4,5,6],\n",
        "        [7,8,8]])\n",
        "mat2 = np.array([[1,2,3],\n",
        "        [4,5,6],\n",
        "        [7,8,9]])\n",
        "mulMat = np.dot(mat1,mat2)\n",
        "print(\"The product of two matrix \\n\\n{}  and \\n\\n{}  is \\n\\n{} \".format(mat1,mat2,mulMat))"
      ],
      "metadata": {
        "colab": {
          "base_uri": "https://localhost:8080/"
        },
        "id": "7rKXxzZpWEG9",
        "outputId": "d664db0c-a0ab-4b43-f8c5-1fb079e9b218"
      },
      "execution_count": 3,
      "outputs": [
        {
          "output_type": "stream",
          "name": "stdout",
          "text": [
            "The product of two matrix \n",
            "\n",
            "[[1 2 3]\n",
            " [4 5 6]\n",
            " [7 8 8]]  and \n",
            "\n",
            "[[1 2 3]\n",
            " [4 5 6]\n",
            " [7 8 9]]  is \n",
            "\n",
            "[[ 30  36  42]\n",
            " [ 66  81  96]\n",
            " [ 95 118 141]] \n"
          ]
        }
      ]
    },
    {
      "cell_type": "markdown",
      "source": [
        "\n",
        "3. Write a Python Program to Transpose a Matrix?"
      ],
      "metadata": {
        "id": "MoIc5-BxVrWF"
      }
    },
    {
      "cell_type": "code",
      "source": [
        "import numpy \n",
        "mat1 = np.array([[1,2,3],\n",
        "        [4,5,6],\n",
        "        [7,8,8]])\n",
        "print(mat1)\n",
        "print(\"\\n\")\n",
        "print(\"Tnasposed matrix\",numpy.transpose(mat1))"
      ],
      "metadata": {
        "colab": {
          "base_uri": "https://localhost:8080/"
        },
        "id": "vqE2G5zEWatc",
        "outputId": "d622cdca-4cb6-4240-8bcf-a5d57f29f6c7"
      },
      "execution_count": 6,
      "outputs": [
        {
          "output_type": "stream",
          "name": "stdout",
          "text": [
            "[[1 2 3]\n",
            " [4 5 6]\n",
            " [7 8 8]]\n",
            "\n",
            "\n",
            "Tnasposed matrix [[1 4 7]\n",
            " [2 5 8]\n",
            " [3 6 8]]\n"
          ]
        }
      ]
    },
    {
      "cell_type": "markdown",
      "source": [
        "\n",
        "4. Write a Python Program to Sort Words in Alphabetic Order?"
      ],
      "metadata": {
        "id": "6UlV4L7WVrUA"
      }
    },
    {
      "cell_type": "code",
      "source": [
        "input_string = input(\"Enter string\")\n",
        "words = input_string.split()\n",
        "words.sort()\n",
        "for word in words:\n",
        "    print(word)"
      ],
      "metadata": {
        "colab": {
          "base_uri": "https://localhost:8080/"
        },
        "id": "eGUPRsrHXBPW",
        "outputId": "0ef87297-0506-4da9-a427-832358ffb10c"
      },
      "execution_count": 7,
      "outputs": [
        {
          "output_type": "stream",
          "name": "stdout",
          "text": [
            "Enter stringmy name is ashish\n",
            "ashish\n",
            "is\n",
            "my\n",
            "name\n"
          ]
        }
      ]
    },
    {
      "cell_type": "markdown",
      "source": [
        "\n",
        "5. Write a Python Program to Remove Punctuation From a String?"
      ],
      "metadata": {
        "id": "jQS05D_HVrAC"
      }
    },
    {
      "cell_type": "code",
      "execution_count": 8,
      "metadata": {
        "colab": {
          "base_uri": "https://localhost:8080/"
        },
        "id": "R1gcAZnlSmtF",
        "outputId": "b8404521-28a8-458a-cc4a-f98db3e21b22"
      },
      "outputs": [
        {
          "output_type": "stream",
          "name": "stdout",
          "text": [
            "Enter a string with punctuations:@shish is my name\n",
            "shish is my name\n"
          ]
        }
      ],
      "source": [
        "punctuations = '''!()-[]{};:'\"\\,<>./?@#$%^&*_~'''\n",
        "input_string = input(\"Enter a string with punctuations:\")\n",
        "rem_punc = \"\"\n",
        "for i in input_string:\n",
        "    if i not in punctuations:\n",
        "        rem_punc = rem_punc + i\n",
        "print(rem_punc)"
      ]
    }
  ]
}
