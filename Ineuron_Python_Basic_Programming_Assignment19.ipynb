{
  "nbformat": 4,
  "nbformat_minor": 0,
  "metadata": {
    "colab": {
      "name": "Ineuron_Python_Basic_Programming_Assignment19.ipynb",
      "provenance": []
    },
    "kernelspec": {
      "name": "python3",
      "display_name": "Python 3"
    },
    "language_info": {
      "name": "python"
    }
  },
  "cells": [
    {
      "cell_type": "markdown",
      "metadata": {
        "id": "BUmqA9_ZR6oT"
      },
      "source": [
        "**Ineuron Python Basic Programming Assignment 19**"
      ]
    },
    {
      "cell_type": "markdown",
      "metadata": {
        "id": "6Q51-nPsZpQ-"
      },
      "source": [
        "Ques. 1: Create a function that takes a string and returns a string in which each character is repeated\n",
        "once.\n",
        "Examples\n",
        "double_char('String') ➞ 'SSttrriinngg'\n",
        "double_char('Hello World!') ➞ 'HHeelllloo WWoorrlldd!!'\n",
        "double_char('1234!_ ') ➞ '11223344!!__ '"
      ]
    },
    {
      "cell_type": "code",
      "metadata": {
        "colab": {
          "base_uri": "https://localhost:8080/"
        },
        "id": "CQW2-HdPZo58",
        "outputId": "2e70f7cc-1622-4915-ab8a-592fc94b31c6"
      },
      "source": [
        "def double_char(str):\n",
        "    return ''.join([c+c for c in str])\n",
        "print(double_char('ashish'))"
      ],
      "execution_count": 2,
      "outputs": [
        {
          "output_type": "stream",
          "name": "stdout",
          "text": [
            "aasshhiisshh\n"
          ]
        }
      ]
    },
    {
      "cell_type": "code",
      "metadata": {
        "id": "0oAaVsh1R23Y",
        "colab": {
          "base_uri": "https://localhost:8080/"
        },
        "outputId": "e00b30dc-8fda-4a73-9fb3-f501a0ea8331"
      },
      "source": [
        "print(double_char('Hello World!'))"
      ],
      "execution_count": 3,
      "outputs": [
        {
          "output_type": "stream",
          "name": "stdout",
          "text": [
            "HHeelllloo  WWoorrlldd!!\n"
          ]
        }
      ]
    },
    {
      "cell_type": "code",
      "metadata": {
        "id": "R8XGAlg_Z4nr",
        "colab": {
          "base_uri": "https://localhost:8080/"
        },
        "outputId": "9f9b2de3-23b1-4f68-850e-a92c8c830d1a"
      },
      "source": [
        "print(double_char('1234!_ '))"
      ],
      "execution_count": 4,
      "outputs": [
        {
          "output_type": "stream",
          "name": "stdout",
          "text": [
            "11223344!!__  \n"
          ]
        }
      ]
    },
    {
      "cell_type": "markdown",
      "metadata": {
        "id": "BRN9-2WvaE7-"
      },
      "source": [
        "Ques. 2: Create a function that reverses a boolean value and returns the string 'boolean expected'\n",
        "if another variable type is given.\n",
        "Examples\n",
        "reverse(True) ➞ False\n",
        "reverse(False) ➞ True\n",
        "reverse(0) ➞ 'boolean expected'\n",
        "reverse(None) ➞ 'boolean expected'"
      ]
    },
    {
      "cell_type": "code",
      "metadata": {
        "id": "IJ7x-P8BaB72",
        "colab": {
          "base_uri": "https://localhost:8080/"
        },
        "outputId": "d61c6af5-f182-4a5c-fdf3-eba5e5b12dcf"
      },
      "source": [
        "def reverse(arg=None):\n",
        "    return not arg if type(arg) == bool else \"boolean expected\"\n",
        "print(reverse(True)) # False\n",
        "print(reverse(False)) # True\n",
        "print(reverse(0)) # \"boolean expected\"\n",
        "print(reverse(None)) # \"boolean expected\""
      ],
      "execution_count": 5,
      "outputs": [
        {
          "output_type": "stream",
          "name": "stdout",
          "text": [
            "False\n",
            "True\n",
            "boolean expected\n",
            "boolean expected\n"
          ]
        }
      ]
    },
    {
      "cell_type": "markdown",
      "metadata": {
        "id": "nXGXjMyfaWh3"
      },
      "source": [
        "Ques. 3: Create a function that returns the thickness (in meters) of a piece of paper after folding it n\n",
        "number of times. The paper starts off with a thickness of 0.5mm.\n",
        "Examples\n",
        "num_layers(1) ➞ '0.001m'\n",
        " Paper folded once is 1mm (equal to 0.001m)\n",
        "num_layers(4) ➞ '0.008m'\n",
        "Paper folded 4 times is 8mm (equal to 0.008m)\n",
        "num_layers(21) ➞ '1048.576m'\n",
        " Paper folded 21 times is 1048576mm (equal to 1048.576m)"
      ]
    },
    {
      "cell_type": "code",
      "metadata": {
        "id": "RNokt0RLaHeE",
        "colab": {
          "base_uri": "https://localhost:8080/"
        },
        "outputId": "5f2a1c3a-1c2d-48ee-cf83-e2d298523c9c"
      },
      "source": [
        "def num_layers(n):\n",
        "    thickness = 0.5\n",
        "    for _ in range(n):\n",
        "        thickness += thickness\n",
        "    return str(thickness / 1000)+'m' #for meters\n",
        "print(num_layers(1))\n",
        "print(num_layers(4))\n",
        "print(num_layers(21))"
      ],
      "execution_count": 7,
      "outputs": [
        {
          "output_type": "stream",
          "name": "stdout",
          "text": [
            "0.001m\n",
            "0.008m\n",
            "1048.576m\n"
          ]
        }
      ]
    },
    {
      "cell_type": "markdown",
      "metadata": {
        "id": "S_6Ymsh9alkA"
      },
      "source": [
        "Ques. 4:  Create a function that takes a single string as argument and returns an ordered list containing\n",
        "the indices of all capital letters in the string.\n",
        "Examples\n",
        "index_of_caps('eDaBiT') ➞ [1, 3, 5]\n",
        "index_of_caps('eQuINoX') ➞ [1, 3, 4, 6]\n",
        "index_of_caps('determine') ➞ []\n",
        "index_of_caps('STRIKE') ➞ [0, 1, 2, 3, 4, 5]\n",
        "index_of_caps('sUn') ➞ [1]"
      ]
    },
    {
      "cell_type": "code",
      "metadata": {
        "colab": {
          "base_uri": "https://localhost:8080/"
        },
        "id": "2fYs7h57afG0",
        "outputId": "a7e50a85-5f8a-4445-ae5c-513ded5e9aa3"
      },
      "source": [
        "def index_of_caps(word):\n",
        "    indices = []\n",
        "    for i in range(len(word)):\n",
        "        if word[i].isupper():\n",
        "             indices.append(i)\n",
        "    return indices\n",
        "print(index_of_caps('eDaBiT'))\n",
        "print(index_of_caps('eQuINoX')) \n",
        "print(index_of_caps('determine'))\n",
        "print(index_of_caps('STRIKE'))\n",
        "print(index_of_caps('sUn'))"
      ],
      "execution_count": 8,
      "outputs": [
        {
          "output_type": "stream",
          "name": "stdout",
          "text": [
            "[1, 3, 5]\n",
            "[1, 3, 4, 6]\n",
            "[]\n",
            "[0, 1, 2, 3, 4, 5]\n",
            "[1]\n"
          ]
        }
      ]
    },
    {
      "cell_type": "markdown",
      "metadata": {
        "id": "wt7zmh0pauBK"
      },
      "source": [
        "Ques. 5: Using list comprehensions, create a function that finds all even numbers from 1 to the given\n",
        "number.\n",
        "Examples\n",
        "find_even_nums(8) ➞ [2, 4, 6, 8]\n",
        "find_even_nums(4) ➞ [2, 4]\n",
        "find_even_nums(2) ➞ [2]"
      ]
    },
    {
      "cell_type": "code",
      "metadata": {
        "colab": {
          "base_uri": "https://localhost:8080/"
        },
        "id": "DFfA5wlwaqdY",
        "outputId": "057cdbd3-a100-4137-f52f-001e67611678"
      },
      "source": [
        "def find_even_nums(n):\n",
        "    even =[x for x in range(2,n+1) if x % 2 == 0]\n",
        "    return even\n",
        "n = int(input('Enter a number : '))\n",
        "print(find_even_nums(n))\n",
        "print(find_even_nums(4))\n",
        "print(find_even_nums(2))"
      ],
      "execution_count": 15,
      "outputs": [
        {
          "output_type": "stream",
          "name": "stdout",
          "text": [
            "Enter a number : 8\n",
            "[2, 4, 6, 8]\n",
            "[2, 4]\n",
            "[2]\n"
          ]
        }
      ]
    }
  ]
}