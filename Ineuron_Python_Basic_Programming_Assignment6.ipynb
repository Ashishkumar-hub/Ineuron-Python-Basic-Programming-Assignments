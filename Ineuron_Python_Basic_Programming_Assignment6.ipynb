{
  "nbformat": 4,
  "nbformat_minor": 0,
  "metadata": {
    "colab": {
      "name": "Ineuron_Python_Basic_Programming_Assignment6.ipynb",
      "provenance": []
    },
    "kernelspec": {
      "name": "python3",
      "display_name": "Python 3"
    },
    "language_info": {
      "name": "python"
    }
  },
  "cells": [
    {
      "cell_type": "markdown",
      "source": [
        "**Ineuron Python Basic Programming Assignment 6**"
      ],
      "metadata": {
        "id": "iiLTyERcAaQ0"
      }
    },
    {
      "cell_type": "markdown",
      "source": [
        "1. Write a Python Program to Display Fibonacci Sequence Using Recursion?"
      ],
      "metadata": {
        "id": "V4kVJ4-JAhqb"
      }
    },
    {
      "cell_type": "code",
      "source": [
        "def recurfib(n):\n",
        "    if n<=1:\n",
        "        return n\n",
        "    else:\n",
        "        return recurfib(n-1) + recurfib(n-2)\n",
        "\n",
        "num = int(input(\"input no : \"))\n",
        "\n",
        "if num <=0:\n",
        "    print(\"Please provide positive no.\")\n",
        "\n",
        "else:\n",
        "    for i in range(num):\n",
        "        print(recurfib(i) , end=\" \")"
      ],
      "metadata": {
        "colab": {
          "base_uri": "https://localhost:8080/"
        },
        "id": "mWE3BSpICwAZ",
        "outputId": "ac9851b7-e62e-4a2f-8c0a-466795c85b5d"
      },
      "execution_count": 1,
      "outputs": [
        {
          "output_type": "stream",
          "name": "stdout",
          "text": [
            "input no : 5\n",
            "0 1 1 2 3 "
          ]
        }
      ]
    },
    {
      "cell_type": "markdown",
      "source": [
        "\n",
        "2. Write a Python Program to Find Factorial of Number Using Recursion?"
      ],
      "metadata": {
        "id": "Mz9RUArvAltH"
      }
    },
    {
      "cell_type": "code",
      "source": [
        "def fact(n):\n",
        "    if n==0:\n",
        "        return 1\n",
        "    else:\n",
        "        return n * fact(n-1)\n",
        "\n",
        "num = int(input(\"input a no : \"))\n",
        "\n",
        "if num<0:\n",
        "    print(\"Enter positive no.\")\n",
        "else:\n",
        "    \n",
        "        print(fact(num))\n"
      ],
      "metadata": {
        "colab": {
          "base_uri": "https://localhost:8080/"
        },
        "id": "woMpzGZKC4OJ",
        "outputId": "796c97ae-9afc-4d61-c13f-bc93098eb052"
      },
      "execution_count": 2,
      "outputs": [
        {
          "output_type": "stream",
          "name": "stdout",
          "text": [
            "input a no : 5\n",
            "120\n"
          ]
        }
      ]
    },
    {
      "cell_type": "markdown",
      "source": [
        "\n",
        "3. Write a Python Program to calculate your Body Mass Index?"
      ],
      "metadata": {
        "id": "YYK3RhEWAnVC"
      }
    },
    {
      "cell_type": "code",
      "source": [
        "# BMI = weight / Height * height\n",
        "\n",
        "h = float(input(\"enter your height in feet : \"))\n",
        "w = float(input(\"enter your weight in kilo : \"))\n",
        "\n",
        "bmi = w/(h**2)\n",
        "\n",
        "print(\"The BIM is = \",bmi)"
      ],
      "metadata": {
        "colab": {
          "base_uri": "https://localhost:8080/"
        },
        "id": "t11EHxeSDAi1",
        "outputId": "331c2830-2cdd-4d30-f065-8274533b04ed"
      },
      "execution_count": 6,
      "outputs": [
        {
          "output_type": "stream",
          "name": "stdout",
          "text": [
            "enter your height in feet : 5.5\n",
            "enter your weight in kilo : 70\n",
            "The BIM is =  2.3140495867768593\n"
          ]
        }
      ]
    },
    {
      "cell_type": "markdown",
      "source": [
        "\n",
        "4. Write a Python Program to calculate the natural logarithm of any number?\n"
      ],
      "metadata": {
        "id": "tCTo7NPKAok7"
      }
    },
    {
      "cell_type": "code",
      "source": [
        "import math\n",
        "x = int(input((\"Enter a number : \")))\n",
        "log = math.log(x)\n",
        "print(\"Log of {} is {}\".format(x, log))"
      ],
      "metadata": {
        "colab": {
          "base_uri": "https://localhost:8080/"
        },
        "id": "qwTju8UVDVvW",
        "outputId": "8d9adcc0-b4fa-4b84-c736-5ac88f17c14f"
      },
      "execution_count": 7,
      "outputs": [
        {
          "output_type": "stream",
          "name": "stdout",
          "text": [
            "Enter a number : 4\n",
            "Log of 4 is 1.3862943611198906\n"
          ]
        }
      ]
    },
    {
      "cell_type": "markdown",
      "source": [
        "5. Write a Python Program for cube sum of first n natural numbers?"
      ],
      "metadata": {
        "id": "F8vxkWObAp9L"
      }
    },
    {
      "cell_type": "code",
      "execution_count": 8,
      "metadata": {
        "colab": {
          "base_uri": "https://localhost:8080/"
        },
        "id": "g-Gar-s8AXO7",
        "outputId": "9ea38cdf-d46f-411b-8601-b7cb6f608aaa"
      },
      "outputs": [
        {
          "output_type": "stream",
          "name": "stdout",
          "text": [
            "Enter a no :4\n",
            "Cube sum of 4 natural numbers is 100\n"
          ]
        }
      ],
      "source": [
        "num = int(input(\"Enter a no :\"))\n",
        "sum = 0\n",
        "for i in range(1 , num+1):\n",
        "    sum = sum + i**3\n",
        "print(\"Cube sum of {} natural numbers is {}\".format(num,sum))  "
      ]
    }
  ]
}